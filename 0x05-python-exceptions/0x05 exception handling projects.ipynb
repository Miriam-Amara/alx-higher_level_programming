{
 "cells": [
  {
   "cell_type": "markdown",
   "id": "1f585ce6",
   "metadata": {},
   "source": [
    "<h2 style=\"color: black;\">0-safe_print_list.py</h2>\n",
    "\n",
    " function that prints x elements of a list"
   ]
  },
  {
   "cell_type": "code",
   "execution_count": 57,
   "id": "c3206a50",
   "metadata": {},
   "outputs": [
    {
     "name": "stdout",
     "output_type": "stream",
     "text": [
      "\n",
      "nb_print: 0\n",
      "12345\n",
      "nb_print: 5\n",
      "12345\n",
      "nb_print: 5\n"
     ]
    }
   ],
   "source": [
    "def safe_print_list(my_list=[], x=0):\n",
    "    try:\n",
    "        for i in range(x):\n",
    "            print(my_list[i], end = '')\n",
    "    except IndexError:\n",
    "        print()\n",
    "        return (i)\n",
    "    print()\n",
    "    return (x)\n",
    "\n",
    "\n",
    "my_list = [1, 2, 3, 4, 5]\n",
    "\n",
    "nb_print = safe_print_list(my_list, 0)   #12\n",
    "print(\"nb_print: {:d}\".format(nb_print)) # nb_print: 2\n",
    "\n",
    "nb_print = safe_print_list(my_list, len(my_list))  #12345\n",
    "print(\"nb_print: {:d}\".format(nb_print))           #5\n",
    "\n",
    "nb_print = safe_print_list(my_list, len(my_list) + 2) #12345\n",
    "print(\"nb_print: {:d}\".format(nb_print))              #5"
   ]
  },
  {
   "cell_type": "code",
   "execution_count": null,
   "id": "2eedf2a0",
   "metadata": {},
   "outputs": [],
   "source": []
  },
  {
   "cell_type": "code",
   "execution_count": null,
   "id": "73fbefaf",
   "metadata": {},
   "outputs": [],
   "source": []
  },
  {
   "cell_type": "markdown",
   "id": "1492e90a",
   "metadata": {},
   "source": [
    "<h2 style=\"color: black;\">1-safe_print_integer.py</h2>\n",
    "\n",
    "A function that prints an integer with \"{:d}\".format()"
   ]
  },
  {
   "cell_type": "code",
   "execution_count": 35,
   "id": "2a4b69dd",
   "metadata": {},
   "outputs": [
    {
     "name": "stdout",
     "output_type": "stream",
     "text": [
      "89\n",
      "-89\n",
      "School is not an integer\n"
     ]
    }
   ],
   "source": [
    "def safe_print_integer(value):\n",
    "    try:\n",
    "        int(value)\n",
    "        print(\"{:d}\".format(value))\n",
    "        return True\n",
    "    except ValueError:\n",
    "        return False\n",
    "        \n",
    "    \n",
    "#     if isinstance(value, int):\n",
    "#         print(value)\n",
    "#         return True\n",
    "#     return False\n",
    "    \n",
    "    \n",
    "    \n",
    "value = 89\n",
    "has_been_print = safe_print_integer(value)\n",
    "if not has_been_print:\n",
    "    print(\"{} is not an integer\".format(value))\n",
    "\n",
    "value = -89\n",
    "has_been_print = safe_print_integer(value)\n",
    "if not has_been_print:\n",
    "    print(\"{} is not an integer\".format(value))\n",
    "\n",
    "value = \"School\"\n",
    "has_been_print = safe_print_integer(value)\n",
    "if not has_been_print:\n",
    "    print(\"{} is not an integer\".format(value))"
   ]
  },
  {
   "cell_type": "code",
   "execution_count": null,
   "id": "a786f490",
   "metadata": {},
   "outputs": [],
   "source": []
  },
  {
   "cell_type": "code",
   "execution_count": null,
   "id": "7b671f13",
   "metadata": {},
   "outputs": [],
   "source": []
  },
  {
   "cell_type": "markdown",
   "id": "5f00a4e2",
   "metadata": {},
   "source": [
    "<h2 style=\"color: black;\">2-safe_print_list_integers.py</h2>\n",
    "\n",
    "A function that prints the first x elements of a list and only integers"
   ]
  },
  {
   "cell_type": "code",
   "execution_count": 49,
   "id": "7a7d5b8c",
   "metadata": {},
   "outputs": [
    {
     "name": "stdout",
     "output_type": "stream",
     "text": [
      "12\n",
      "nb_print: 2\n",
      "12345\n",
      "nb_print: 5\n",
      "12345"
     ]
    },
    {
     "ename": "IndexError",
     "evalue": "list index out of range",
     "output_type": "error",
     "traceback": [
      "\u001b[1;31m---------------------------------------------------------------------------\u001b[0m",
      "\u001b[1;31mIndexError\u001b[0m                                Traceback (most recent call last)",
      "Cell \u001b[1;32mIn[49], line 26\u001b[0m\n\u001b[0;32m     23\u001b[0m nb_print \u001b[38;5;241m=\u001b[39m safe_print_list_integers(my_list, \u001b[38;5;28mlen\u001b[39m(my_list))\n\u001b[0;32m     24\u001b[0m \u001b[38;5;28mprint\u001b[39m(\u001b[38;5;124m\"\u001b[39m\u001b[38;5;124mnb_print: \u001b[39m\u001b[38;5;132;01m{:d}\u001b[39;00m\u001b[38;5;124m\"\u001b[39m\u001b[38;5;241m.\u001b[39mformat(nb_print))\n\u001b[1;32m---> 26\u001b[0m nb_print \u001b[38;5;241m=\u001b[39m safe_print_list_integers(my_list, \u001b[38;5;28mlen\u001b[39m(my_list) \u001b[38;5;241m+\u001b[39m \u001b[38;5;241m2\u001b[39m)\n\u001b[0;32m     27\u001b[0m \u001b[38;5;28mprint\u001b[39m(\u001b[38;5;124m\"\u001b[39m\u001b[38;5;124mnb_print: \u001b[39m\u001b[38;5;132;01m{:d}\u001b[39;00m\u001b[38;5;124m\"\u001b[39m\u001b[38;5;241m.\u001b[39mformat(nb_print))\n",
      "Cell \u001b[1;32mIn[49], line 9\u001b[0m, in \u001b[0;36msafe_print_list_integers\u001b[1;34m(my_list, x)\u001b[0m\n\u001b[0;32m      7\u001b[0m j \u001b[38;5;241m=\u001b[39m \u001b[38;5;241m0\u001b[39m\n\u001b[0;32m      8\u001b[0m \u001b[38;5;28;01mfor\u001b[39;00m i \u001b[38;5;129;01min\u001b[39;00m \u001b[38;5;28mrange\u001b[39m(x):\n\u001b[1;32m----> 9\u001b[0m     \u001b[38;5;28;01mif\u001b[39;00m \u001b[38;5;28misinstance\u001b[39m(my_list[i], \u001b[38;5;28mint\u001b[39m):\n\u001b[0;32m     10\u001b[0m         \u001b[38;5;28mprint\u001b[39m(\u001b[38;5;124m\"\u001b[39m\u001b[38;5;132;01m{:d}\u001b[39;00m\u001b[38;5;124m\"\u001b[39m\u001b[38;5;241m.\u001b[39mformat(my_list[i]), end \u001b[38;5;241m=\u001b[39m \u001b[38;5;124m'\u001b[39m\u001b[38;5;124m'\u001b[39m)\n\u001b[0;32m     11\u001b[0m         j \u001b[38;5;241m+\u001b[39m\u001b[38;5;241m=\u001b[39m \u001b[38;5;241m1\u001b[39m\n",
      "\u001b[1;31mIndexError\u001b[0m: list index out of range"
     ]
    }
   ],
   "source": [
    "def safe_print_list_integers(my_list=[], x=0):\n",
    "    try:\n",
    "        for i in range(x):\n",
    "            int(my_list[i])\n",
    "    except ValueError:\n",
    "        pass\n",
    "    j = 0\n",
    "    for i in range(x):\n",
    "        if isinstance(my_list[i], int):\n",
    "            print(\"{:d}\".format(my_list[i]), end = '')\n",
    "            j += 1\n",
    "    print()\n",
    "    return (j)\n",
    "    \n",
    "    \n",
    "    \n",
    "my_list = [1, 2, 3, 4, 5]\n",
    "\n",
    "nb_print = safe_print_list_integers(my_list, 2)\n",
    "print(\"nb_print: {:d}\".format(nb_print))\n",
    "\n",
    "my_list = [1, 2, 3, \"School\", 4, 5, [1, 2, 3]]\n",
    "nb_print = safe_print_list_integers(my_list, len(my_list))\n",
    "print(\"nb_print: {:d}\".format(nb_print))\n",
    "\n",
    "nb_print = safe_print_list_integers(my_list, len(my_list) + 2)\n",
    "print(\"nb_print: {:d}\".format(nb_print))"
   ]
  },
  {
   "cell_type": "code",
   "execution_count": null,
   "id": "4ddec27c",
   "metadata": {},
   "outputs": [],
   "source": []
  },
  {
   "cell_type": "code",
   "execution_count": null,
   "id": "1cad6377",
   "metadata": {},
   "outputs": [],
   "source": []
  },
  {
   "cell_type": "markdown",
   "id": "065ed1bd",
   "metadata": {},
   "source": [
    "<h2 style=\"color: black;\">3-safe_print_division.py</h2>\n",
    "\n",
    "A function that divides 2 integers and prints the result"
   ]
  },
  {
   "cell_type": "code",
   "execution_count": 61,
   "id": "7779456d",
   "metadata": {},
   "outputs": [
    {
     "name": "stdout",
     "output_type": "stream",
     "text": [
      "Inside result: 6.0\n",
      "12 / 2 = 6.0\n",
      "Inside result: None\n",
      "12 / 0 = None\n"
     ]
    }
   ],
   "source": [
    "def safe_print_division(a, b):\n",
    "    try:\n",
    "        result = a / b\n",
    "    except ZeroDivisionError:\n",
    "        return None\n",
    "    finally:\n",
    "        if b == 0:\n",
    "            print(\"Inside result: {}\".format(None))\n",
    "        else:\n",
    "            print(\"Inside result: {}\".format(result))\n",
    "            return result\n",
    "        \n",
    "        \n",
    "\n",
    "a = 12\n",
    "b = 2\n",
    "result = safe_print_division(a, b)\n",
    "print(\"{:d} / {:d} = {}\".format(a, b, result))\n",
    "\n",
    "a = 12\n",
    "b = 0\n",
    "result = safe_print_division(a, b)\n",
    "print(\"{:d} / {:d} = {}\".format(a, b, result))"
   ]
  },
  {
   "cell_type": "code",
   "execution_count": null,
   "id": "9b483978",
   "metadata": {},
   "outputs": [],
   "source": []
  },
  {
   "cell_type": "code",
   "execution_count": null,
   "id": "15ff639c",
   "metadata": {},
   "outputs": [],
   "source": []
  },
  {
   "cell_type": "markdown",
   "id": "30be7442",
   "metadata": {},
   "source": [
    "<h2 style=\"color: black;\">4-list_division.py</h2>\n",
    "\n",
    " A function that divides element by element 2 lists"
   ]
  },
  {
   "cell_type": "code",
   "execution_count": 33,
   "id": "12acc812",
   "metadata": {},
   "outputs": [
    {
     "name": "stdout",
     "output_type": "stream",
     "text": [
      "[5.0, 2.0, 1.0]\n",
      "--\n",
      "division by 0\n",
      "wrong type\n",
      "out of range\n",
      "[5.0, 0, 0, 2.0, 0]\n"
     ]
    }
   ],
   "source": [
    "def list_division(my_list_1, my_list_2, list_length):\n",
    "    solution = []\n",
    "    for i in range(list_length):\n",
    "        try:\n",
    "            solution.append(my_list_1[i]/ my_list_2[i])\n",
    "        except ZeroDivisionError:\n",
    "            solution.append(0)\n",
    "            print(\"division by 0\")\n",
    "        except TypeError:\n",
    "            solution.append(0)\n",
    "            print(\"wrong type\")\n",
    "        except IndexError:\n",
    "            solution.append(0)\n",
    "            print(\"out of range\")\n",
    "    return (solution)\n",
    "        \n",
    "\n",
    "    \n",
    "    \n",
    "my_l_1 = [10, 8, 4]\n",
    "my_l_2 = [2, 4, 4]\n",
    "result = list_division(my_l_1, my_l_2, max(len(my_l_1), len(my_l_2)))\n",
    "print(result)\n",
    "\n",
    "print(\"--\")\n",
    "\n",
    "my_l_1 = [10, 8, 4, 4]\n",
    "my_l_2 = [2, 0, \"H\", 2, 7]\n",
    "result = list_division(my_l_1, my_l_2, max(len(my_l_1), len(my_l_2)))\n",
    "print(result)"
   ]
  },
  {
   "cell_type": "code",
   "execution_count": null,
   "id": "6409290d",
   "metadata": {},
   "outputs": [],
   "source": []
  },
  {
   "cell_type": "code",
   "execution_count": null,
   "id": "30488ea7",
   "metadata": {},
   "outputs": [],
   "source": []
  },
  {
   "cell_type": "markdown",
   "id": "3d93fff2",
   "metadata": {},
   "source": [
    "<h2 style=\"color: black;\">5-raise_exception.py</h2>\n",
    "\n",
    "A function that raises a type exception"
   ]
  },
  {
   "cell_type": "code",
   "execution_count": 39,
   "id": "8d145ffe",
   "metadata": {},
   "outputs": [
    {
     "name": "stdout",
     "output_type": "stream",
     "text": [
      "Exception raised\n"
     ]
    }
   ],
   "source": [
    "def raise_exception():\n",
    "    raise TypeError()\n",
    "\n",
    "try:\n",
    "    raise_exception()\n",
    "except TypeError as te:\n",
    "    print(\"Exception raised\")"
   ]
  },
  {
   "cell_type": "code",
   "execution_count": null,
   "id": "aa44f883",
   "metadata": {},
   "outputs": [],
   "source": []
  },
  {
   "cell_type": "code",
   "execution_count": null,
   "id": "20c90369",
   "metadata": {},
   "outputs": [],
   "source": []
  },
  {
   "cell_type": "markdown",
   "id": "91ff3a04",
   "metadata": {},
   "source": [
    "<h2 style=\"color: black;\">6-raise_exception_msg.py</h2>\n",
    "\n",
    " A function that raises a name exception with a message"
   ]
  },
  {
   "cell_type": "code",
   "execution_count": 43,
   "id": "808631d2",
   "metadata": {},
   "outputs": [
    {
     "name": "stdout",
     "output_type": "stream",
     "text": [
      "C is fun\n"
     ]
    }
   ],
   "source": [
    "def raise_exception_msg(message=\"\"):\n",
    "    raise NameError(message)\n",
    "    \n",
    "    \n",
    "try:\n",
    "    raise_exception_msg(\"C is fun\")\n",
    "except NameError as ne:\n",
    "    print(ne)"
   ]
  },
  {
   "cell_type": "code",
   "execution_count": null,
   "id": "96761f2b",
   "metadata": {},
   "outputs": [],
   "source": []
  },
  {
   "cell_type": "code",
   "execution_count": null,
   "id": "42f25836",
   "metadata": {},
   "outputs": [],
   "source": []
  },
  {
   "cell_type": "markdown",
   "id": "b3349a0d",
   "metadata": {},
   "source": [
    "<h2 style=\"color: black;\">100-safe_print_integer_err.py</h2>\n",
    "\n",
    "A function that prints an integer"
   ]
  },
  {
   "cell_type": "code",
   "execution_count": 56,
   "id": "c87d2d2c",
   "metadata": {},
   "outputs": [
    {
     "name": "stdout",
     "output_type": "stream",
     "text": [
      "89\n",
      "-89\n",
      "School is not an integer\n"
     ]
    },
    {
     "name": "stderr",
     "output_type": "stream",
     "text": [
      "Unknown format code 'd' for object of type 'str'\n"
     ]
    }
   ],
   "source": [
    "import sys\n",
    "def safe_print_integer_err(value):\n",
    "    try:\n",
    "        print(\"{:d}\".format(value))\n",
    "        return True\n",
    "    except ValueError as e:\n",
    "        print(e, file = sys.stderr)\n",
    "        return False\n",
    "        \n",
    "   \n",
    "    \n",
    "value = 89\n",
    "has_been_print = safe_print_integer_err(value)\n",
    "if not has_been_print:\n",
    "    print(\"{} is not an integer\".format(value))\n",
    "\n",
    "value = -89\n",
    "has_been_print = safe_print_integer_err(value)\n",
    "if not has_been_print:\n",
    "    print(\"{} is not an integer\".format(value))\n",
    "\n",
    "value = \"School\"\n",
    "has_been_print = safe_print_integer_err(value)\n",
    "if not has_been_print:\n",
    "    print(\"{} is not an integer\".format(value))\n"
   ]
  },
  {
   "cell_type": "code",
   "execution_count": null,
   "id": "32e4015b",
   "metadata": {},
   "outputs": [],
   "source": []
  },
  {
   "cell_type": "code",
   "execution_count": null,
   "id": "d2d71dce",
   "metadata": {},
   "outputs": [],
   "source": []
  },
  {
   "cell_type": "markdown",
   "id": "ead7c5a4",
   "metadata": {},
   "source": [
    "<h2 style=\"color: black;\">101-safe_function.py</h2>\n",
    "\n",
    "A function that executes a function safely"
   ]
  },
  {
   "cell_type": "code",
   "execution_count": 77,
   "id": "e4f24fd0",
   "metadata": {},
   "outputs": [
    {
     "name": "stdout",
     "output_type": "stream",
     "text": [
      "result of my_div: 5.0\n",
      "result of my_div: None\n",
      "1\n",
      "2\n",
      "3\n",
      "4\n",
      "result of print_list: None\n"
     ]
    },
    {
     "name": "stderr",
     "output_type": "stream",
     "text": [
      "Exception: division by zero\n",
      "Exception: list index out of range\n"
     ]
    }
   ],
   "source": [
    "import sys\n",
    "def safe_function(fct, *args):\n",
    "    try:\n",
    "        def new_function(*args):\n",
    "            a, b = args\n",
    "            return fct(a, b)\n",
    "        return new_function(*args)\n",
    "    except Exception as e:\n",
    "        print(f\"Exception: {e}\", file = sys.stderr)\n",
    "        return None\n",
    "        \n",
    "        \n",
    "    \n",
    "\n",
    "def my_div(a, b):\n",
    "    return a / b\n",
    "\n",
    "result = safe_function(my_div, 10, 2)\n",
    "print(\"result of my_div: {}\".format(result))\n",
    "\n",
    "result = safe_function(my_div, 10, 0)\n",
    "print(\"result of my_div: {}\".format(result))\n",
    "\n",
    "\n",
    "def print_list(my_list, len):\n",
    "    i = 0\n",
    "    while i < len:\n",
    "        print(my_list[i])\n",
    "        i += 1\n",
    "    return len\n",
    "\n",
    "result = safe_function(print_list, [1, 2, 3, 4], 10)\n",
    "print(\"result of print_list: {}\".format(result))\n"
   ]
  },
  {
   "cell_type": "code",
   "execution_count": 72,
   "id": "215487a0",
   "metadata": {},
   "outputs": [
    {
     "name": "stdout",
     "output_type": "stream",
     "text": [
      "2 4\n",
      "6\n"
     ]
    }
   ],
   "source": [
    "def add(*args):\n",
    "    a, b = args\n",
    "    print(a, b)\n",
    "    result = sum(args)\n",
    "    return result\n",
    "\n",
    "ans = add(2, 4)\n",
    "print(ans)"
   ]
  },
  {
   "cell_type": "code",
   "execution_count": 81,
   "id": "26312025",
   "metadata": {},
   "outputs": [
    {
     "name": "stdout",
     "output_type": "stream",
     "text": [
      ".\\0-safe_print_list.py:5:34: E251 unexpected spaces around keyword / parameter equals\n",
      ".\\0-safe_print_list.py:5:36: E251 unexpected spaces around keyword / parameter equals\n",
      ".\\0-safe_print_list.py:10:15: W292 no newline at end of file\n",
      ".\\1-safe_print_integer.py:8:21: W292 no newline at end of file\n",
      ".\\100-safe_print_integer_err.py:3:1: E302 expected 2 blank lines, found 0\n",
      ".\\100-safe_print_integer_err.py:8:22: E251 unexpected spaces around keyword / parameter equals\n",
      ".\\100-safe_print_integer_err.py:8:24: E251 unexpected spaces around keyword / parameter equals\n",
      ".\\100-safe_print_integer_err.py:9:21: W292 no newline at end of file\n",
      ".\\101-safe_function.py:3:1: E302 expected 2 blank lines, found 0\n",
      ".\\101-safe_function.py:10:38: E251 unexpected spaces around keyword / parameter equals\n",
      ".\\101-safe_function.py:10:40: E251 unexpected spaces around keyword / parameter equals\n",
      ".\\101-safe_function.py:11:20: W292 no newline at end of file\n",
      ".\\2-safe_print_list_integers.py:11:49: E251 unexpected spaces around keyword / parameter equals\n",
      ".\\2-safe_print_list_integers.py:11:51: E251 unexpected spaces around keyword / parameter equals\n",
      ".\\2-safe_print_list_integers.py:14:15: W292 no newline at end of file\n",
      ".\\3-safe_print_division.py:12:26: W292 no newline at end of file\n",
      ".\\4-list_division.py:6:41: E225 missing whitespace around operator\n",
      ".\\4-list_division.py:16:22: W292 no newline at end of file\n",
      ".\\5-raise_exception.py:3:22: W292 no newline at end of file\n",
      ".\\6-raise_exception_msg.py:3:29: W292 no newline at end of file\n"
     ]
    }
   ],
   "source": [
    "!pycodestyle ."
   ]
  },
  {
   "cell_type": "code",
   "execution_count": null,
   "id": "3804552c",
   "metadata": {},
   "outputs": [],
   "source": []
  },
  {
   "cell_type": "code",
   "execution_count": null,
   "id": "585ac9cc",
   "metadata": {},
   "outputs": [],
   "source": []
  },
  {
   "cell_type": "code",
   "execution_count": null,
   "id": "5bab079f",
   "metadata": {},
   "outputs": [],
   "source": []
  },
  {
   "cell_type": "code",
   "execution_count": null,
   "id": "63f0bf4e",
   "metadata": {},
   "outputs": [],
   "source": []
  },
  {
   "cell_type": "code",
   "execution_count": null,
   "id": "847ae97c",
   "metadata": {},
   "outputs": [],
   "source": []
  },
  {
   "cell_type": "code",
   "execution_count": null,
   "id": "85b16992",
   "metadata": {},
   "outputs": [],
   "source": []
  },
  {
   "cell_type": "code",
   "execution_count": null,
   "id": "eb3294c4",
   "metadata": {},
   "outputs": [],
   "source": []
  },
  {
   "cell_type": "code",
   "execution_count": null,
   "id": "d6468a11",
   "metadata": {},
   "outputs": [],
   "source": []
  },
  {
   "cell_type": "code",
   "execution_count": null,
   "id": "a5387bc5",
   "metadata": {},
   "outputs": [],
   "source": []
  },
  {
   "cell_type": "code",
   "execution_count": null,
   "id": "17c0fae7",
   "metadata": {},
   "outputs": [],
   "source": []
  },
  {
   "cell_type": "code",
   "execution_count": null,
   "id": "636753db",
   "metadata": {},
   "outputs": [],
   "source": []
  },
  {
   "cell_type": "code",
   "execution_count": null,
   "id": "7ad24d57",
   "metadata": {},
   "outputs": [],
   "source": []
  },
  {
   "cell_type": "code",
   "execution_count": null,
   "id": "d8254364",
   "metadata": {},
   "outputs": [],
   "source": []
  },
  {
   "cell_type": "code",
   "execution_count": null,
   "id": "a611b89c",
   "metadata": {},
   "outputs": [],
   "source": []
  },
  {
   "cell_type": "code",
   "execution_count": null,
   "id": "6d8bc299",
   "metadata": {},
   "outputs": [],
   "source": []
  },
  {
   "cell_type": "code",
   "execution_count": null,
   "id": "f8e53fff",
   "metadata": {},
   "outputs": [],
   "source": []
  }
 ],
 "metadata": {
  "kernelspec": {
   "display_name": "Python 3 (ipykernel)",
   "language": "python",
   "name": "python3"
  },
  "language_info": {
   "codemirror_mode": {
    "name": "ipython",
    "version": 3
   },
   "file_extension": ".py",
   "mimetype": "text/x-python",
   "name": "python",
   "nbconvert_exporter": "python",
   "pygments_lexer": "ipython3",
   "version": "3.11.5"
  }
 },
 "nbformat": 4,
 "nbformat_minor": 5
}

{
 "cells": [
  {
   "cell_type": "markdown",
   "id": "b5d95340",
   "metadata": {},
   "source": [
    "<h2 style=\"color: black;\">0-square_matrix_simple.py</h2>\n",
    "\n",
    "A function that computes the square value of all integers of a matrix"
   ]
  },
  {
   "cell_type": "code",
   "execution_count": 42,
   "id": "e58d70a6",
   "metadata": {},
   "outputs": [
    {
     "name": "stdout",
     "output_type": "stream",
     "text": [
      "[[1, 4, 9], [16, 25, 36], [49, 64, 81]]\n",
      "[[1, 2, 3], [4, 5, 6], [7, 8, 9]]\n"
     ]
    }
   ],
   "source": [
    "def square_matrix_simple(matrix=[]):\n",
    "    matrix2 = []\n",
    "    for nums in matrix:\n",
    "        matrix1 = []\n",
    "        for i in range(len(nums)):\n",
    "            square_num = nums[i] ** 2\n",
    "            matrix1.append(square_num)\n",
    "        matrix2.append(matrix1)\n",
    "    return matrix2\n",
    "\n",
    "    \n",
    "matrix = [\n",
    "    [1, 2, 3],\n",
    "    [4, 5, 6],\n",
    "    [7, 8, 9]\n",
    "]\n",
    "\n",
    "new_matrix = square_matrix_simple(matrix)\n",
    "print(new_matrix)\n",
    "print(matrix)"
   ]
  },
  {
   "cell_type": "code",
   "execution_count": null,
   "id": "a12563af",
   "metadata": {},
   "outputs": [],
   "source": []
  },
  {
   "cell_type": "code",
   "execution_count": null,
   "id": "c17df920",
   "metadata": {},
   "outputs": [],
   "source": []
  },
  {
   "cell_type": "markdown",
   "id": "39140c5a",
   "metadata": {},
   "source": [
    "<h2 style=\"color: black;\">1-search_replace.py</h2>\n",
    "\n",
    "A function that replaces all occurrences of an element by another in a new list"
   ]
  },
  {
   "cell_type": "code",
   "execution_count": 54,
   "id": "15214670",
   "metadata": {},
   "outputs": [
    {
     "name": "stdout",
     "output_type": "stream",
     "text": [
      "[1, 89, 3, 4, 5, 4, 89, 1, 1, 4, 89]\n",
      "[1, 2, 3, 4, 5, 4, 2, 1, 1, 4, 89]\n"
     ]
    }
   ],
   "source": [
    "def search_replace(my_list, search, replace):\n",
    "    new_list = []\n",
    "    for num in my_list:\n",
    "        if num == search:\n",
    "            num = replace\n",
    "        new_list.append(num)\n",
    "    return new_list\n",
    "\n",
    "my_list = [1, 2, 3, 4, 5, 4, 2, 1, 1, 4, 89]\n",
    "new_list = search_replace(my_list, 2, 89)\n",
    "\n",
    "print(new_list)\n",
    "print(my_list)\n"
   ]
  },
  {
   "cell_type": "code",
   "execution_count": null,
   "id": "28a5a07f",
   "metadata": {},
   "outputs": [],
   "source": []
  },
  {
   "cell_type": "code",
   "execution_count": null,
   "id": "f5ee8fc0",
   "metadata": {},
   "outputs": [],
   "source": []
  },
  {
   "cell_type": "markdown",
   "id": "a97cc188",
   "metadata": {},
   "source": [
    "<h2 style=\"color: black;\">2-uniq_add.py</h2>\n",
    "\n",
    "A function that adds all unique integers in a list (only once for each integer)"
   ]
  },
  {
   "cell_type": "code",
   "execution_count": 29,
   "id": "23b70cf6",
   "metadata": {},
   "outputs": [
    {
     "name": "stdout",
     "output_type": "stream",
     "text": [
      "Result: 15\n"
     ]
    }
   ],
   "source": [
    "def uniq_add(my_list=[]):\n",
    "    sum = 0\n",
    "    my_list = set(my_list)\n",
    "    for num in my_list:\n",
    "        sum += num\n",
    "    return sum\n",
    "    \n",
    "my_list = [1, 2, 3, 1, 4, 2, 5]\n",
    "result = uniq_add(my_list)\n",
    "print(\"Result: {:d}\".format(result))"
   ]
  },
  {
   "cell_type": "code",
   "execution_count": 10,
   "id": "762830fa",
   "metadata": {},
   "outputs": [
    {
     "name": "stdout",
     "output_type": "stream",
     "text": [
      "Result: 15\n"
     ]
    }
   ],
   "source": [
    "def uniq_add(my_list=[]):\n",
    "    my_list = set(my_list)\n",
    "    return sum(my_list)\n",
    "    \n",
    "my_list = [1, 2, 3, 1, 4, 2, 5]\n",
    "result = uniq_add(my_list)\n",
    "print(\"Result: {:d}\".format(result))"
   ]
  },
  {
   "cell_type": "code",
   "execution_count": null,
   "id": "c3fb8f4f",
   "metadata": {},
   "outputs": [],
   "source": []
  },
  {
   "cell_type": "code",
   "execution_count": null,
   "id": "92ba4169",
   "metadata": {},
   "outputs": [],
   "source": []
  },
  {
   "cell_type": "markdown",
   "id": "4bf61669",
   "metadata": {},
   "source": [
    "<h2 style=\"color: black;\">3-common_elements.py</h2>\n",
    "\n",
    "A function that returns a set of common elements in two sets"
   ]
  },
  {
   "cell_type": "code",
   "execution_count": 78,
   "id": "e52e0098",
   "metadata": {},
   "outputs": [
    {
     "name": "stdout",
     "output_type": "stream",
     "text": [
      "['C']\n"
     ]
    }
   ],
   "source": [
    "def common_elements(set_1, set_2):\n",
    "    set_3 = set({})\n",
    "    new_list = list(set_1) + list(set_2)\n",
    "    while new_list:\n",
    "        item = new_list.pop(0)\n",
    "        if item in new_list:\n",
    "            set_3.add(item)\n",
    "    return(set_3)\n",
    "    \n",
    "    \n",
    "set_1 = { \"Python\", \"C\", \"Javascript\" }\n",
    "set_2 = { \"Bash\", \"C\", \"Ruby\", \"Perl\" }\n",
    "c_set = common_elements(set_1, set_2)\n",
    "print(sorted(list(c_set)))"
   ]
  },
  {
   "cell_type": "code",
   "execution_count": 64,
   "id": "f76ada21",
   "metadata": {},
   "outputs": [
    {
     "name": "stdout",
     "output_type": "stream",
     "text": [
      "Miriam\n",
      "['Daniel', 'Christopher', 'Emeka'] \n",
      "\n",
      "Daniel\n",
      "['Christopher', 'Emeka'] \n",
      "\n",
      "Christopher\n",
      "['Emeka'] \n",
      "\n",
      "Emeka\n",
      "[] \n",
      "\n"
     ]
    }
   ],
   "source": [
    "list1 = [\"Miriam\", \"Daniel\", \"Christopher\", \"Emeka\"]\n",
    "while list1:\n",
    "    print(list1[0])\n",
    "    list1.remove(list1[0])\n",
    "    print(list1, '\\n')"
   ]
  },
  {
   "cell_type": "code",
   "execution_count": null,
   "id": "52097c55",
   "metadata": {},
   "outputs": [],
   "source": []
  },
  {
   "cell_type": "code",
   "execution_count": 17,
   "id": "99c2a809",
   "metadata": {},
   "outputs": [
    {
     "name": "stdout",
     "output_type": "stream",
     "text": [
      "['C']\n"
     ]
    }
   ],
   "source": [
    "def common_elements(set_1, set_2):\n",
    "    elements = set(list(set_1) + list(set_2))\n",
    "    common_elements = []\n",
    "    for value in elements:\n",
    "        if value in set_1 and value in set_2:\n",
    "            common_elements.append(value)\n",
    "    return common_elements\n",
    "\n",
    "    \n",
    "set_1 = { \"Python\", \"C\", \"Javascript\" }\n",
    "set_2 = { \"Bash\", \"C\", \"Ruby\", \"Perl\" }\n",
    "c_set = common_elements(set_1, set_2)\n",
    "print(sorted(list(c_set)))"
   ]
  },
  {
   "cell_type": "code",
   "execution_count": 39,
   "id": "81e0f77d",
   "metadata": {},
   "outputs": [
    {
     "name": "stdout",
     "output_type": "stream",
     "text": [
      "['C']\n"
     ]
    }
   ],
   "source": [
    "def common_elements(set_1, set_2):\n",
    "    return (set_1.intersection(set_2))\n",
    "\n",
    "    \n",
    "set_1 = { \"Python\", \"C\", \"Javascript\" }\n",
    "set_2 = { \"Bash\", \"C\", \"Ruby\", \"Perl\" }\n",
    "c_set = common_elements(set_1, set_2)\n",
    "print(sorted(list(c_set)))"
   ]
  },
  {
   "cell_type": "code",
   "execution_count": 35,
   "id": "8c5aab56",
   "metadata": {},
   "outputs": [
    {
     "name": "stdout",
     "output_type": "stream",
     "text": [
      "['__and__', '__class__', '__class_getitem__', '__contains__', '__delattr__', '__dir__', '__doc__', '__eq__', '__format__', '__ge__', '__getattribute__', '__getstate__', '__gt__', '__hash__', '__iand__', '__init__', '__init_subclass__', '__ior__', '__isub__', '__iter__', '__ixor__', '__le__', '__len__', '__lt__', '__ne__', '__new__', '__or__', '__rand__', '__reduce__', '__reduce_ex__', '__repr__', '__ror__', '__rsub__', '__rxor__', '__setattr__', '__sizeof__', '__str__', '__sub__', '__subclasshook__', '__xor__', 'add', 'clear', 'copy', 'difference', 'difference_update', 'discard', 'intersection', 'intersection_update', 'isdisjoint', 'issubset', 'issuperset', 'pop', 'remove', 'symmetric_difference', 'symmetric_difference_update', 'union', 'update']\n"
     ]
    }
   ],
   "source": [
    "print(dir(set))"
   ]
  },
  {
   "cell_type": "code",
   "execution_count": null,
   "id": "a05cb1cb",
   "metadata": {},
   "outputs": [],
   "source": []
  },
  {
   "cell_type": "code",
   "execution_count": null,
   "id": "66e6282f",
   "metadata": {},
   "outputs": [],
   "source": []
  },
  {
   "cell_type": "markdown",
   "id": "cdd97205",
   "metadata": {},
   "source": [
    "<h2 style=\"color: black;\">4-only_diff_elements.py</h2>\n",
    "\n",
    "A function that returns a set of all elements present in only one set"
   ]
  },
  {
   "cell_type": "code",
   "execution_count": 88,
   "id": "9e4b23c9",
   "metadata": {},
   "outputs": [
    {
     "name": "stdout",
     "output_type": "stream",
     "text": [
      "['Bash', 'Javascript', 'Perl', 'Python', 'Ruby']\n"
     ]
    }
   ],
   "source": [
    "def only_diff_elements(set_1, set_2):\n",
    "    list1 = list(set_1)\n",
    "    list2 = list(set_2)\n",
    "    list3 = list1 + list2\n",
    "    for item in list1:\n",
    "        if item in list2:\n",
    "            list3.remove(item)\n",
    "            list3.remove(item)\n",
    "    return set(list3)\n",
    "\n",
    "\n",
    "set_1 = { \"Python\", \"C\", \"Javascript\" }\n",
    "set_2 = { \"Bash\", \"C\", \"Ruby\", \"Perl\" }\n",
    "od_set = only_diff_elements(set_1, set_2)\n",
    "print(sorted(list(od_set)))"
   ]
  },
  {
   "cell_type": "code",
   "execution_count": 87,
   "id": "9d17abe1",
   "metadata": {},
   "outputs": [
    {
     "name": "stdout",
     "output_type": "stream",
     "text": [
      "['Bash', 'Javascript', 'Perl', 'Python', 'Ruby']\n"
     ]
    }
   ],
   "source": [
    "def only_diff_elements(set_1, set_2):\n",
    "    list_elements = list(set_1) + list(set_2)\n",
    "    for item in set_1:\n",
    "        if item in set_2:\n",
    "            list_elements.remove(item)\n",
    "            list_elements.remove(item)\n",
    "    return set(list_elements)\n",
    "\n",
    "\n",
    "set_1 = { \"Python\", \"C\", \"Javascript\" }\n",
    "set_2 = { \"Bash\", \"C\", \"Ruby\", \"Perl\" }\n",
    "od_set = only_diff_elements(set_1, set_2)\n",
    "print(sorted(list(od_set)))"
   ]
  },
  {
   "cell_type": "code",
   "execution_count": null,
   "id": "ce69f3c6",
   "metadata": {},
   "outputs": [],
   "source": []
  },
  {
   "cell_type": "code",
   "execution_count": 85,
   "id": "65ad66fb",
   "metadata": {},
   "outputs": [
    {
     "name": "stdout",
     "output_type": "stream",
     "text": [
      "['Bash', 'Javascript', 'Perl', 'Python', 'Ruby']\n"
     ]
    }
   ],
   "source": [
    "def only_diff_elements(set_1, set_2):\n",
    "    common_element = set_1.intersection(set_2)\n",
    "    set_3 = set(list(set_1) + list(set_2))\n",
    "    return set_3.difference(common_element)\n",
    "\n",
    "\n",
    "set_1 = { \"Python\", \"C\", \"Javascript\" }\n",
    "set_2 = { \"Bash\", \"C\", \"Ruby\", \"Perl\" }\n",
    "od_set = only_diff_elements(set_1, set_2)\n",
    "print(sorted(list(od_set)))"
   ]
  },
  {
   "cell_type": "markdown",
   "id": "7aae4b0e",
   "metadata": {},
   "source": [
    "<h2 style=\"color: black;\">5-number_keys.py</h2>\n",
    "\n",
    "A function that returns the number of keys in a dictionary"
   ]
  },
  {
   "cell_type": "code",
   "execution_count": 55,
   "id": "3eab6372",
   "metadata": {},
   "outputs": [
    {
     "name": "stdout",
     "output_type": "stream",
     "text": [
      "Number of keys: 3\n"
     ]
    }
   ],
   "source": [
    "def number_keys(a_dictionary):\n",
    "    length = len(a_dictionary.items())\n",
    "    return length\n",
    "\n",
    "\n",
    "a_dictionary = { 'language': \"C\", 'number': 13, 'track': \"Low level\" }\n",
    "nb_keys = number_keys(a_dictionary)\n",
    "print(\"Number of keys: {:d}\".format(nb_keys))"
   ]
  },
  {
   "cell_type": "code",
   "execution_count": null,
   "id": "a31f9565",
   "metadata": {},
   "outputs": [],
   "source": []
  },
  {
   "cell_type": "code",
   "execution_count": 92,
   "id": "8e9d065a",
   "metadata": {},
   "outputs": [
    {
     "name": "stdout",
     "output_type": "stream",
     "text": [
      "Number of keys: 3\n"
     ]
    }
   ],
   "source": [
    "def number_keys(a_dictionary):\n",
    "    return len(a_dictionary.keys())\n",
    "\n",
    "\n",
    "a_dictionary = { 'language': \"C\", 'number': 13, 'track': \"Low level\" }\n",
    "nb_keys = number_keys(a_dictionary)\n",
    "print(\"Number of keys: {:d}\".format(nb_keys))"
   ]
  },
  {
   "cell_type": "markdown",
   "id": "1a3cb4ff",
   "metadata": {},
   "source": [
    "<h2 style=\"color: black;\">6-print_sorted_dictionary.py</h2>\n",
    "\n",
    " A function that prints a dictionary by ordered keys"
   ]
  },
  {
   "cell_type": "code",
   "execution_count": 119,
   "id": "7cafd2b0",
   "metadata": {},
   "outputs": [
    {
     "name": "stdout",
     "output_type": "stream",
     "text": [
      "Number: 89\n",
      "ids: [1, 2, 3]\n",
      "language: C\n",
      "track: Low level\n"
     ]
    }
   ],
   "source": [
    "def print_sorted_dictionary(a_dictionary):\n",
    "    keys_list = []\n",
    "    new_dict = {}\n",
    "    for key in a_dictionary:\n",
    "        keys_list.append(key)\n",
    "    keys_list.sort()\n",
    "    for item in keys_list:\n",
    "        for key, value in a_dictionary.items():\n",
    "            if item == key:\n",
    "                new_dict[key] = value\n",
    "    for key, value in new_dict.items():\n",
    "        print(f\"{key}: {value}\") \n",
    " \n",
    "    \n",
    "a_dictionary = { 'language': \"C\", 'Number': 89, 'track': \"Low level\", 'ids': [1, 2, 3] }\n",
    "print_sorted_dictionary(a_dictionary)"
   ]
  },
  {
   "cell_type": "code",
   "execution_count": null,
   "id": "017b2acd",
   "metadata": {},
   "outputs": [],
   "source": []
  },
  {
   "cell_type": "code",
   "execution_count": 120,
   "id": "712e02be",
   "metadata": {},
   "outputs": [
    {
     "name": "stdout",
     "output_type": "stream",
     "text": [
      "Number: 89\n",
      "ids: [1, 2, 3]\n",
      "language: C\n",
      "track: Low level\n"
     ]
    }
   ],
   "source": [
    "def print_sorted_dictionary(a_dictionary):\n",
    "    keys = list(a_dictionary.keys())\n",
    "    keys.sort()\n",
    "    new_dict = {}\n",
    "    for key in keys:\n",
    "        new_dict.update({key: a_dictionary[key]})\n",
    "    for key, value in new_dict.items():\n",
    "        print(f\"{key}: {value}\") \n",
    "\n",
    "    \n",
    "a_dictionary = { 'language': \"C\", 'Number': 89, 'track': \"Low level\", 'ids': [1, 2, 3] }\n",
    "print_sorted_dictionary(a_dictionary)"
   ]
  },
  {
   "cell_type": "code",
   "execution_count": null,
   "id": "1e752c76",
   "metadata": {},
   "outputs": [],
   "source": []
  },
  {
   "cell_type": "code",
   "execution_count": 121,
   "id": "8fd38ab6",
   "metadata": {},
   "outputs": [
    {
     "name": "stdout",
     "output_type": "stream",
     "text": [
      "Number: 89\n",
      "ids: [1, 2, 3]\n",
      "language: C\n",
      "track: Low level\n"
     ]
    }
   ],
   "source": [
    "def print_sorted_dictionary(a_dictionary):\n",
    "    keys = list(a_dictionary.keys())\n",
    "    keys.sort()\n",
    "    sorted_keys = {key: a_dictionary[key] for key in keys}\n",
    "    for key, value in sorted_keys.items():\n",
    "        print(f\"{key}: {value}\") \n",
    "    \n",
    "\n",
    "a_dictionary = { 'language': \"C\", 'Number': 89, 'track': \"Low level\", 'ids': [1, 2, 3] }\n",
    "print_sorted_dictionary(a_dictionary)"
   ]
  },
  {
   "cell_type": "code",
   "execution_count": null,
   "id": "c85d2074",
   "metadata": {},
   "outputs": [],
   "source": [
    "dict_keys(['language', 'Number', 'track', 'ids'])"
   ]
  },
  {
   "cell_type": "code",
   "execution_count": 93,
   "id": "71d359ab",
   "metadata": {},
   "outputs": [
    {
     "name": "stdout",
     "output_type": "stream",
     "text": [
      "['__class__', '__class_getitem__', '__contains__', '__delattr__', '__delitem__', '__dir__', '__doc__', '__eq__', '__format__', '__ge__', '__getattribute__', '__getitem__', '__getstate__', '__gt__', '__hash__', '__init__', '__init_subclass__', '__ior__', '__iter__', '__le__', '__len__', '__lt__', '__ne__', '__new__', '__or__', '__reduce__', '__reduce_ex__', '__repr__', '__reversed__', '__ror__', '__setattr__', '__setitem__', '__sizeof__', '__str__', '__subclasshook__', 'clear', 'copy', 'fromkeys', 'get', 'items', 'keys', 'pop', 'popitem', 'setdefault', 'update', 'values']\n"
     ]
    }
   ],
   "source": [
    "print(dir(dict))"
   ]
  },
  {
   "cell_type": "code",
   "execution_count": null,
   "id": "720806d5",
   "metadata": {},
   "outputs": [],
   "source": []
  },
  {
   "cell_type": "code",
   "execution_count": null,
   "id": "a917c4aa",
   "metadata": {},
   "outputs": [],
   "source": []
  },
  {
   "cell_type": "markdown",
   "id": "090696c6",
   "metadata": {},
   "source": [
    "<h2 style=\"color: black;\">7-update_dictionary.py</h2>\n",
    "\n",
    "A function that replaces or adds key/value in a dictionary"
   ]
  },
  {
   "cell_type": "code",
   "execution_count": 125,
   "id": "9b745d10",
   "metadata": {},
   "outputs": [
    {
     "name": "stdout",
     "output_type": "stream",
     "text": [
      "language: Python\n",
      "number: 89\n",
      "track: Low level\n",
      "--\n",
      "language: Python\n",
      "number: 89\n",
      "track: Low level\n",
      "--\n",
      "--\n",
      "city: San Francisco\n",
      "language: Python\n",
      "number: 89\n",
      "track: Low level\n",
      "--\n",
      "city: San Francisco\n",
      "language: Python\n",
      "number: 89\n",
      "track: Low level\n"
     ]
    }
   ],
   "source": [
    "print_sorted_dictionary = __import__('6-print_sorted_dictionary').print_sorted_dictionary\n",
    "\n",
    "def update_dictionary(a_dictionary, key, value):\n",
    "        a_dictionary[key] = value\n",
    "        return a_dictionary\n",
    "\n",
    "\n",
    "\n",
    "\n",
    "\n",
    "\n",
    "\n",
    "a_dictionary = { 'language': \"C\", 'number': 89, 'track': \"Low level\" }\n",
    "new_dict = update_dictionary(a_dictionary, 'language', \"Python\")\n",
    "print_sorted_dictionary(new_dict)\n",
    "print(\"--\")\n",
    "print_sorted_dictionary(a_dictionary)\n",
    "\n",
    "print(\"--\")\n",
    "print(\"--\")\n",
    "\n",
    "new_dict = update_dictionary(a_dictionary, 'city', \"San Francisco\")\n",
    "print_sorted_dictionary(new_dict)\n",
    "print(\"--\")\n",
    "print_sorted_dictionary(a_dictionary)"
   ]
  },
  {
   "cell_type": "code",
   "execution_count": null,
   "id": "612e4aea",
   "metadata": {},
   "outputs": [],
   "source": []
  },
  {
   "cell_type": "code",
   "execution_count": null,
   "id": "da4795ce",
   "metadata": {},
   "outputs": [],
   "source": []
  },
  {
   "cell_type": "markdown",
   "id": "3dafc1d4",
   "metadata": {},
   "source": [
    "<h2 style=\"color: black;\">8-simple_delete.py</h2>\n",
    "\n",
    "A function that deletes a key in a dictionary"
   ]
  },
  {
   "cell_type": "code",
   "execution_count": 126,
   "id": "a3b6efbb",
   "metadata": {},
   "outputs": [
    {
     "name": "stdout",
     "output_type": "stream",
     "text": [
      "Number: 89\n",
      "ids: [1, 2, 3]\n",
      "language: C\n",
      "--\n",
      "Number: 89\n",
      "ids: [1, 2, 3]\n",
      "language: C\n",
      "--\n",
      "--\n",
      "Number: 89\n",
      "ids: [1, 2, 3]\n",
      "language: C\n",
      "--\n",
      "Number: 89\n",
      "ids: [1, 2, 3]\n",
      "language: C\n"
     ]
    }
   ],
   "source": [
    "print_sorted_dictionary = __import__('6-print_sorted_dictionary').print_sorted_dictionary\n",
    "\n",
    "def simple_delete(a_dictionary, key=\"\"):\n",
    "    if key not in a_dictionary:\n",
    "        return a_dictionary\n",
    "    del a_dictionary[key]\n",
    "    return a_dictionary\n",
    "    \n",
    "    \n",
    "    \n",
    "    \n",
    "\n",
    "\n",
    "a_dictionary = { 'language': \"C\", 'Number': 89, 'track': \"Low\", 'ids': [1, 2, 3] }\n",
    "new_dict = simple_delete(a_dictionary, 'track')\n",
    "print_sorted_dictionary(a_dictionary)\n",
    "print(\"--\")\n",
    "print_sorted_dictionary(new_dict)\n",
    "\n",
    "print(\"--\")\n",
    "print(\"--\")\n",
    "new_dict = simple_delete(a_dictionary, 'c_is_fun')\n",
    "print_sorted_dictionary(a_dictionary)\n",
    "print(\"--\")\n",
    "print_sorted_dictionary(new_dict)\n"
   ]
  },
  {
   "cell_type": "code",
   "execution_count": null,
   "id": "4f0395b5",
   "metadata": {},
   "outputs": [],
   "source": []
  },
  {
   "cell_type": "code",
   "execution_count": 65,
   "id": "db7117d5",
   "metadata": {},
   "outputs": [
    {
     "name": "stdout",
     "output_type": "stream",
     "text": [
      "Help on class dict in module builtins:\n",
      "\n",
      "class dict(object)\n",
      " |  dict() -> new empty dictionary\n",
      " |  dict(mapping) -> new dictionary initialized from a mapping object's\n",
      " |      (key, value) pairs\n",
      " |  dict(iterable) -> new dictionary initialized as if via:\n",
      " |      d = {}\n",
      " |      for k, v in iterable:\n",
      " |          d[k] = v\n",
      " |  dict(**kwargs) -> new dictionary initialized with the name=value pairs\n",
      " |      in the keyword argument list.  For example:  dict(one=1, two=2)\n",
      " |  \n",
      " |  Built-in subclasses:\n",
      " |      StgDict\n",
      " |  \n",
      " |  Methods defined here:\n",
      " |  \n",
      " |  __contains__(self, key, /)\n",
      " |      True if the dictionary has the specified key, else False.\n",
      " |  \n",
      " |  __delitem__(self, key, /)\n",
      " |      Delete self[key].\n",
      " |  \n",
      " |  __eq__(self, value, /)\n",
      " |      Return self==value.\n",
      " |  \n",
      " |  __ge__(self, value, /)\n",
      " |      Return self>=value.\n",
      " |  \n",
      " |  __getattribute__(self, name, /)\n",
      " |      Return getattr(self, name).\n",
      " |  \n",
      " |  __getitem__(...)\n",
      " |      x.__getitem__(y) <==> x[y]\n",
      " |  \n",
      " |  __gt__(self, value, /)\n",
      " |      Return self>value.\n",
      " |  \n",
      " |  __init__(self, /, *args, **kwargs)\n",
      " |      Initialize self.  See help(type(self)) for accurate signature.\n",
      " |  \n",
      " |  __ior__(self, value, /)\n",
      " |      Return self|=value.\n",
      " |  \n",
      " |  __iter__(self, /)\n",
      " |      Implement iter(self).\n",
      " |  \n",
      " |  __le__(self, value, /)\n",
      " |      Return self<=value.\n",
      " |  \n",
      " |  __len__(self, /)\n",
      " |      Return len(self).\n",
      " |  \n",
      " |  __lt__(self, value, /)\n",
      " |      Return self<value.\n",
      " |  \n",
      " |  __ne__(self, value, /)\n",
      " |      Return self!=value.\n",
      " |  \n",
      " |  __or__(self, value, /)\n",
      " |      Return self|value.\n",
      " |  \n",
      " |  __repr__(self, /)\n",
      " |      Return repr(self).\n",
      " |  \n",
      " |  __reversed__(self, /)\n",
      " |      Return a reverse iterator over the dict keys.\n",
      " |  \n",
      " |  __ror__(self, value, /)\n",
      " |      Return value|self.\n",
      " |  \n",
      " |  __setitem__(self, key, value, /)\n",
      " |      Set self[key] to value.\n",
      " |  \n",
      " |  __sizeof__(...)\n",
      " |      D.__sizeof__() -> size of D in memory, in bytes\n",
      " |  \n",
      " |  clear(...)\n",
      " |      D.clear() -> None.  Remove all items from D.\n",
      " |  \n",
      " |  copy(...)\n",
      " |      D.copy() -> a shallow copy of D\n",
      " |  \n",
      " |  get(self, key, default=None, /)\n",
      " |      Return the value for key if key is in the dictionary, else default.\n",
      " |  \n",
      " |  items(...)\n",
      " |      D.items() -> a set-like object providing a view on D's items\n",
      " |  \n",
      " |  keys(...)\n",
      " |      D.keys() -> a set-like object providing a view on D's keys\n",
      " |  \n",
      " |  pop(...)\n",
      " |      D.pop(k[,d]) -> v, remove specified key and return the corresponding value.\n",
      " |      \n",
      " |      If the key is not found, return the default if given; otherwise,\n",
      " |      raise a KeyError.\n",
      " |  \n",
      " |  popitem(self, /)\n",
      " |      Remove and return a (key, value) pair as a 2-tuple.\n",
      " |      \n",
      " |      Pairs are returned in LIFO (last-in, first-out) order.\n",
      " |      Raises KeyError if the dict is empty.\n",
      " |  \n",
      " |  setdefault(self, key, default=None, /)\n",
      " |      Insert key with a value of default if key is not in the dictionary.\n",
      " |      \n",
      " |      Return the value for key if key is in the dictionary, else default.\n",
      " |  \n",
      " |  update(...)\n",
      " |      D.update([E, ]**F) -> None.  Update D from dict/iterable E and F.\n",
      " |      If E is present and has a .keys() method, then does:  for k in E: D[k] = E[k]\n",
      " |      If E is present and lacks a .keys() method, then does:  for k, v in E: D[k] = v\n",
      " |      In either case, this is followed by: for k in F:  D[k] = F[k]\n",
      " |  \n",
      " |  values(...)\n",
      " |      D.values() -> an object providing a view on D's values\n",
      " |  \n",
      " |  ----------------------------------------------------------------------\n",
      " |  Class methods defined here:\n",
      " |  \n",
      " |  __class_getitem__(...) from builtins.type\n",
      " |      See PEP 585\n",
      " |  \n",
      " |  fromkeys(iterable, value=None, /) from builtins.type\n",
      " |      Create a new dictionary with keys from iterable and values set to value.\n",
      " |  \n",
      " |  ----------------------------------------------------------------------\n",
      " |  Static methods defined here:\n",
      " |  \n",
      " |  __new__(*args, **kwargs) from builtins.type\n",
      " |      Create and return a new object.  See help(type) for accurate signature.\n",
      " |  \n",
      " |  ----------------------------------------------------------------------\n",
      " |  Data and other attributes defined here:\n",
      " |  \n",
      " |  __hash__ = None\n",
      "\n",
      "None\n"
     ]
    }
   ],
   "source": [
    "print(help(dict))"
   ]
  },
  {
   "cell_type": "code",
   "execution_count": null,
   "id": "b0a3714d",
   "metadata": {},
   "outputs": [],
   "source": []
  },
  {
   "cell_type": "code",
   "execution_count": null,
   "id": "6543a279",
   "metadata": {},
   "outputs": [],
   "source": []
  },
  {
   "cell_type": "markdown",
   "id": "7ed220b5",
   "metadata": {},
   "source": [
    "<h2 style=\"color: black;\">9-multiply_by_2.py</h2>\n",
    "\n",
    "A function that returns a new dictionary with all values multiplied by 2"
   ]
  },
  {
   "cell_type": "code",
   "execution_count": 127,
   "id": "3b069bb2",
   "metadata": {},
   "outputs": [
    {
     "name": "stdout",
     "output_type": "stream",
     "text": [
      "Alex: 8\n",
      "Bob: 14\n",
      "John: 12\n",
      "Mike: 14\n",
      "Molly: 16\n",
      "--\n",
      "Alex: 16\n",
      "Bob: 28\n",
      "John: 24\n",
      "Mike: 28\n",
      "Molly: 32\n"
     ]
    }
   ],
   "source": [
    "print_sorted_dictionary = \\\n",
    "    __import__('6-print_sorted_dictionary').print_sorted_dictionary\n",
    "\n",
    "def multiply_by_2(a_dictionary):\n",
    "    new_dict = {key: value * 2 for key, value in a_dictionary.items()}\n",
    "    return new_dict\n",
    "\n",
    "    \n",
    "    \n",
    "\n",
    "\n",
    "\n",
    "a_dictionary = {'John': 12, 'Alex': 8, 'Bob': 14, 'Mike': 14, 'Molly': 16}\n",
    "new_dict = multiply_by_2(a_dictionary)\n",
    "print_sorted_dictionary(a_dictionary)\n",
    "print(\"--\")\n",
    "print_sorted_dictionary(new_dict)"
   ]
  },
  {
   "cell_type": "code",
   "execution_count": null,
   "id": "2de584bb",
   "metadata": {},
   "outputs": [],
   "source": []
  },
  {
   "cell_type": "code",
   "execution_count": null,
   "id": "615db728",
   "metadata": {},
   "outputs": [],
   "source": []
  },
  {
   "cell_type": "markdown",
   "id": "4a1d106c",
   "metadata": {},
   "source": [
    "<h2 style=\"color: black;\">10-best_score.py</h2>\n",
    "\n",
    "A function that returns a key with the biggest integer value"
   ]
  },
  {
   "cell_type": "code",
   "execution_count": 131,
   "id": "ab820a78",
   "metadata": {},
   "outputs": [
    {
     "name": "stdout",
     "output_type": "stream",
     "text": [
      "Best score: Molly\n",
      "Best score: None\n"
     ]
    }
   ],
   "source": [
    "def best_score(a_dictionary):\n",
    "    if a_dictionary is None:\n",
    "        return None\n",
    "    max_value = max(a_dictionary.values())\n",
    "    for key, value in a_dictionary.items():\n",
    "        if max_value == value:\n",
    "            return key\n",
    "    \n",
    "    \n",
    "    \n",
    "    \n",
    "a_dictionary = {'John': 12, 'Bob': 14, 'Mike': 14, 'Molly': 16, 'Adam': 10}\n",
    "best_key = best_score(a_dictionary)\n",
    "print(\"Best score: {}\".format(best_key))\n",
    "\n",
    "best_key = best_score(None)\n",
    "print(\"Best score: {}\".format(best_key))"
   ]
  },
  {
   "cell_type": "code",
   "execution_count": null,
   "id": "772c3366",
   "metadata": {},
   "outputs": [],
   "source": []
  },
  {
   "cell_type": "code",
   "execution_count": null,
   "id": "681ffdf5",
   "metadata": {},
   "outputs": [],
   "source": []
  },
  {
   "cell_type": "markdown",
   "id": "e8e8ef7e",
   "metadata": {},
   "source": [
    "<h2 style=\"color: black;\">11-multiply_list_map.py</h2>\n",
    "\n",
    "A function that returns a list with all values multiplied by a number without using any loops"
   ]
  },
  {
   "cell_type": "code",
   "execution_count": 82,
   "id": "287c970b",
   "metadata": {},
   "outputs": [
    {
     "name": "stdout",
     "output_type": "stream",
     "text": [
      "[4, 8, 12, 16, 24]\n",
      "[1, 2, 3, 4, 6]\n"
     ]
    }
   ],
   "source": [
    "def multiply_list_map(my_list=[], number=0):\n",
    "    return list(map(lambda i: i * number, my_list))\n",
    "    \n",
    "    \n",
    "    \n",
    "my_list = [1, 2, 3, 4, 6]\n",
    "new_list = multiply_list_map(my_list, 4)\n",
    "print(new_list)\n",
    "print(my_list)"
   ]
  },
  {
   "cell_type": "code",
   "execution_count": null,
   "id": "a4b1f000",
   "metadata": {},
   "outputs": [],
   "source": []
  },
  {
   "cell_type": "code",
   "execution_count": null,
   "id": "b7eb0a89",
   "metadata": {},
   "outputs": [],
   "source": []
  },
  {
   "cell_type": "markdown",
   "id": "8257b5cd",
   "metadata": {},
   "source": [
    "<h2 style=\"color: black;\">12-roman_to_int.py</h2>\n",
    "\n",
    "A function def roman_to_int(roman_string): that converts a Roman numeral to an integer"
   ]
  },
  {
   "cell_type": "code",
   "execution_count": null,
   "id": "e7b67762",
   "metadata": {},
   "outputs": [],
   "source": [
    "def roman_to_int(roman_string):\n",
    "    roman_dict = {'I' : 1, 'V': 5, 'X' : 10, 'L': 50, 'C': 100, 'D': 500, 'M': 1000 }\n",
    "    \n",
    "    \n",
    "    "
   ]
  },
  {
   "cell_type": "code",
   "execution_count": null,
   "id": "922f2032",
   "metadata": {},
   "outputs": [],
   "source": []
  },
  {
   "cell_type": "code",
   "execution_count": null,
   "id": "011c6626",
   "metadata": {},
   "outputs": [],
   "source": []
  },
  {
   "cell_type": "markdown",
   "id": "4ec82129",
   "metadata": {},
   "source": [
    "<h2 style=\"color: black;\">100-weight_average.py</h2>\n",
    "\n",
    "A function that returns the weighted average of all integers tuple (<score>, <weight>)"
   ]
  },
  {
   "cell_type": "code",
   "execution_count": 136,
   "id": "9fca19a1",
   "metadata": {},
   "outputs": [
    {
     "name": "stdout",
     "output_type": "stream",
     "text": [
      "Average: 2.80\n"
     ]
    }
   ],
   "source": [
    "def weight_average(my_list=[]):\n",
    "    sum_num = 0\n",
    "    weights = []\n",
    "    if not my_list:\n",
    "        return 0\n",
    "    for tuples in my_list:\n",
    "        for i, j in [tuples]:\n",
    "            weights.append(j)\n",
    "            mul = i * j\n",
    "        sum_num += mul\n",
    "    weight_average = sum_num / sum(weights)\n",
    "    return weight_average\n",
    "    \n",
    "\n",
    "\n",
    "my_list = [(1, 2), (2, 1), (3, 10), (4, 2)]\n",
    "# = ((1 * 2) + (2 * 1) + (3 * 10) + (4 * 2)) / (2 + 1 + 10 + 2)\n",
    "result = weight_average(my_list)\n",
    "print(\"Average: {:0.2f}\".format(result))"
   ]
  },
  {
   "cell_type": "code",
   "execution_count": 98,
   "id": "b2a7e736",
   "metadata": {},
   "outputs": [
    {
     "name": "stdout",
     "output_type": "stream",
     "text": [
      "3 5\n"
     ]
    }
   ],
   "source": [
    "num = (3, 5)\n",
    "for i, j in [num]:\n",
    "    print(i, j)"
   ]
  },
  {
   "cell_type": "code",
   "execution_count": null,
   "id": "cb90b9be",
   "metadata": {},
   "outputs": [],
   "source": []
  },
  {
   "cell_type": "code",
   "execution_count": 137,
   "id": "317def6c",
   "metadata": {},
   "outputs": [
    {
     "name": "stdout",
     "output_type": "stream",
     "text": [
      "Average: 2.80\n"
     ]
    }
   ],
   "source": [
    "def weight_average(my_list=[]):\n",
    "    sum_num, sum_weights = (0, 0)\n",
    "    if not my_list:\n",
    "        return 0\n",
    "    for tuples in my_list:\n",
    "        for i, j in [tuples]:\n",
    "            mul = i * j\n",
    "        sum_num += mul\n",
    "        sum_weights += j\n",
    "    return (sum_num / sum_weights)\n",
    "    \n",
    "\n",
    "\n",
    "my_list = [(1, 2), (2, 1), (3, 10), (4, 2)]\n",
    "# = ((1 * 2) + (2 * 1) + (3 * 10) + (4 * 2)) / (2 + 1 + 10 + 2)\n",
    "result = weight_average(my_list)\n",
    "print(\"Average: {:0.2f}\".format(result))"
   ]
  },
  {
   "cell_type": "code",
   "execution_count": null,
   "id": "ac37937c",
   "metadata": {},
   "outputs": [],
   "source": []
  },
  {
   "cell_type": "markdown",
   "id": "5261769b",
   "metadata": {},
   "source": [
    "<h2 style=\"color: black;\">101-square_matrix_map.py</h2>\n",
    "\n",
    "A function that computes the square value of all integers of a matrix using map"
   ]
  },
  {
   "cell_type": "code",
   "execution_count": 117,
   "id": "d271fc91",
   "metadata": {},
   "outputs": [
    {
     "name": "stdout",
     "output_type": "stream",
     "text": [
      "[[1, 4, 9], [16, 25, 36], [49, 64, 81]]\n",
      "[[1, 2, 3], [4, 5, 6], [7, 8, 9]]\n"
     ]
    }
   ],
   "source": [
    "def square_matrix_map(matrix=[]):\n",
    "     return list(map(lambda row: list(map(lambda i: i ** 2, row)), matrix))\n",
    "#return list(map(lambda i: i * number, my_list))  \n",
    "    \n",
    "    \n",
    "    \n",
    "matrix = [\n",
    "    [1, 2, 3],\n",
    "    [4, 5, 6],\n",
    "    [7, 8, 9]\n",
    "]\n",
    "\n",
    "new_matrix = square_matrix_map(matrix)\n",
    "print(new_matrix)\n",
    "print(matrix)\n"
   ]
  },
  {
   "cell_type": "code",
   "execution_count": null,
   "id": "ded9e92b",
   "metadata": {},
   "outputs": [],
   "source": []
  },
  {
   "cell_type": "code",
   "execution_count": null,
   "id": "305610e5",
   "metadata": {},
   "outputs": [],
   "source": []
  },
  {
   "cell_type": "markdown",
   "id": "40de99b7",
   "metadata": {},
   "source": [
    "<h2 style=\"color: black;\">102-complex_delete.py</h2>\n",
    "\n",
    " A function that deletes keys with a specific value in a dictionary"
   ]
  },
  {
   "cell_type": "code",
   "execution_count": 146,
   "id": "fb14ff62",
   "metadata": {},
   "outputs": [
    {
     "name": "stdout",
     "output_type": "stream",
     "text": [
      "ids: [1, 2, 3]\n",
      "track: Low\n",
      "--\n",
      "ids: [1, 2, 3]\n",
      "track: Low\n",
      "--\n",
      "--\n",
      "ids: [1, 2, 3]\n",
      "track: Low\n",
      "--\n",
      "ids: [1, 2, 3]\n",
      "track: Low\n"
     ]
    }
   ],
   "source": [
    "print_sorted_dictionary =  __import__('6-print_sorted_dictionary').print_sorted_dictionary\n",
    "\n",
    "def complex_delete(a_dictionary, value):\n",
    "    key_list = []\n",
    "    if value not in a_dictionary.values():\n",
    "        return a_dictionary\n",
    "    for key, item in a_dictionary.items():\n",
    "        if item == value:\n",
    "            key_list.append(key)\n",
    "    for element in key_list:\n",
    "        del a_dictionary[element]\n",
    "    return(a_dictionary)\n",
    "    \n",
    "    \n",
    "    \n",
    "#     max_value = max(a_dictionary.values())\n",
    "#     for key, value in a_dictionary.items():\n",
    "#         if max_value == value:\n",
    "#             return key    \n",
    "\n",
    "\n",
    "a_dictionary = {'lang': \"C\", 'track': \"Low\", 'pref': \"C\", 'ids': [1, 2, 3]}\n",
    "new_dict = complex_delete(a_dictionary, 'C')\n",
    "print_sorted_dictionary(a_dictionary)\n",
    "print(\"--\")\n",
    "print_sorted_dictionary(new_dict)\n",
    "\n",
    "print(\"--\")\n",
    "print(\"--\")\n",
    "new_dict = complex_delete(a_dictionary, 'c_is_fun')\n",
    "print_sorted_dictionary(a_dictionary)\n",
    "print(\"--\")\n",
    "print_sorted_dictionary(new_dict)"
   ]
  },
  {
   "cell_type": "code",
   "execution_count": 137,
   "id": "88b237fc",
   "metadata": {},
   "outputs": [
    {
     "name": "stdout",
     "output_type": "stream",
     "text": [
      "Miriam Dami\n"
     ]
    }
   ],
   "source": [
    "name = (\"Miriam\", \"Dami\")\n",
    "for m, d in [name]:\n",
    "    print(m, d)"
   ]
  },
  {
   "cell_type": "code",
   "execution_count": null,
   "id": "44bf9fd6",
   "metadata": {},
   "outputs": [],
   "source": []
  },
  {
   "cell_type": "code",
   "execution_count": null,
   "id": "f922904e",
   "metadata": {},
   "outputs": [],
   "source": []
  },
  {
   "cell_type": "code",
   "execution_count": null,
   "id": "b44139fc",
   "metadata": {},
   "outputs": [],
   "source": []
  },
  {
   "cell_type": "markdown",
   "id": "d3413977",
   "metadata": {},
   "source": [
    "<h2 style=\"color: black;\"> terminal </h2>"
   ]
  },
  {
   "cell_type": "code",
   "execution_count": 150,
   "id": "fa58dba7",
   "metadata": {},
   "outputs": [
    {
     "name": "stderr",
     "output_type": "stream",
     "text": [
      "To https://github.com/Miriam-Amara/alx-higher_level_programming.git\n",
      "   cd297db..81ac420  main -> main\n"
     ]
    }
   ],
   "source": [
    "!git push"
   ]
  },
  {
   "cell_type": "code",
   "execution_count": null,
   "id": "dc769a92",
   "metadata": {},
   "outputs": [],
   "source": []
  },
  {
   "cell_type": "code",
   "execution_count": null,
   "id": "0e600066",
   "metadata": {},
   "outputs": [],
   "source": []
  },
  {
   "cell_type": "code",
   "execution_count": null,
   "id": "b763e53a",
   "metadata": {},
   "outputs": [],
   "source": []
  },
  {
   "cell_type": "code",
   "execution_count": null,
   "id": "1fbd604b",
   "metadata": {},
   "outputs": [],
   "source": []
  },
  {
   "cell_type": "code",
   "execution_count": null,
   "id": "46ef06ce",
   "metadata": {},
   "outputs": [],
   "source": []
  },
  {
   "cell_type": "code",
   "execution_count": null,
   "id": "50fe2fa7",
   "metadata": {},
   "outputs": [],
   "source": []
  },
  {
   "cell_type": "code",
   "execution_count": null,
   "id": "0b1a7ace",
   "metadata": {},
   "outputs": [],
   "source": []
  },
  {
   "cell_type": "code",
   "execution_count": null,
   "id": "ff54b1de",
   "metadata": {},
   "outputs": [],
   "source": []
  },
  {
   "cell_type": "code",
   "execution_count": null,
   "id": "b8e28abb",
   "metadata": {},
   "outputs": [],
   "source": []
  },
  {
   "cell_type": "code",
   "execution_count": null,
   "id": "8f40bd2b",
   "metadata": {},
   "outputs": [],
   "source": []
  },
  {
   "cell_type": "code",
   "execution_count": null,
   "id": "84b99f54",
   "metadata": {},
   "outputs": [],
   "source": []
  },
  {
   "cell_type": "code",
   "execution_count": null,
   "id": "e0c258e9",
   "metadata": {},
   "outputs": [],
   "source": []
  },
  {
   "cell_type": "code",
   "execution_count": null,
   "id": "afb3d721",
   "metadata": {},
   "outputs": [],
   "source": []
  },
  {
   "cell_type": "code",
   "execution_count": null,
   "id": "6e21e092",
   "metadata": {},
   "outputs": [],
   "source": []
  },
  {
   "cell_type": "code",
   "execution_count": null,
   "id": "094b8b79",
   "metadata": {},
   "outputs": [],
   "source": []
  },
  {
   "cell_type": "code",
   "execution_count": null,
   "id": "f7c66d36",
   "metadata": {},
   "outputs": [],
   "source": []
  }
 ],
 "metadata": {
  "kernelspec": {
   "display_name": "Python 3 (ipykernel)",
   "language": "python",
   "name": "python3"
  },
  "language_info": {
   "codemirror_mode": {
    "name": "ipython",
    "version": 3
   },
   "file_extension": ".py",
   "mimetype": "text/x-python",
   "name": "python",
   "nbconvert_exporter": "python",
   "pygments_lexer": "ipython3",
   "version": "3.11.5"
  }
 },
 "nbformat": 4,
 "nbformat_minor": 5
}

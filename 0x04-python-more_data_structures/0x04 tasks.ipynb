{
 "cells": [
  {
   "cell_type": "code",
   "execution_count": 24,
   "id": "e58d70a6",
   "metadata": {},
   "outputs": [
    {
     "name": "stdout",
     "output_type": "stream",
     "text": [
      "[[1, 4, 9], [16, 25, 36], [49, 64, 81]]\n",
      "[[1, 2, 3], [4, 5, 6], [7, 8, 9]]\n"
     ]
    }
   ],
   "source": [
    "#0-square_matrix_simple.py\n",
    "def square_matrix_simple(matrix=[]):\n",
    "    matrix2 = []\n",
    "    for nums in matrix:\n",
    "        matrix1 = []\n",
    "        for i in range(len(nums)):\n",
    "            square_num = nums[i] ** 2\n",
    "            matrix1.append(square_num)\n",
    "        matrix2.append(matrix1)\n",
    "    return matrix2\n",
    "\n",
    "    \n",
    "matrix = [\n",
    "    [1, 2, 3],\n",
    "    [4, 5, 6],\n",
    "    [7, 8, 9]\n",
    "]\n",
    "\n",
    "new_matrix = square_matrix_simple(matrix)\n",
    "print(new_matrix)\n",
    "print(matrix)"
   ]
  },
  {
   "cell_type": "code",
   "execution_count": null,
   "id": "c937b9b2",
   "metadata": {},
   "outputs": [],
   "source": []
  },
  {
   "cell_type": "code",
   "execution_count": 26,
   "id": "15214670",
   "metadata": {},
   "outputs": [
    {
     "name": "stdout",
     "output_type": "stream",
     "text": [
      "[1, 89, 3, 4, 5, 4, 89, 1, 1, 4, 89]\n",
      "[1, 2, 3, 4, 5, 4, 2, 1, 1, 4, 89]\n"
     ]
    }
   ],
   "source": [
    "#1-search_replace.py\n",
    "def search_replace(my_list, search, replace):\n",
    "    new_list = []\n",
    "    for num in my_list:\n",
    "        if num == search:\n",
    "            num = replace\n",
    "        new_list.append(num)\n",
    "    return new_list\n",
    "\n",
    "my_list = [1, 2, 3, 4, 5, 4, 2, 1, 1, 4, 89]\n",
    "new_list = search_replace(my_list, 2, 89)\n",
    "\n",
    "print(new_list)\n",
    "print(my_list)\n"
   ]
  },
  {
   "cell_type": "code",
   "execution_count": null,
   "id": "0551dea9",
   "metadata": {},
   "outputs": [],
   "source": []
  },
  {
   "cell_type": "code",
   "execution_count": 29,
   "id": "23b70cf6",
   "metadata": {},
   "outputs": [
    {
     "name": "stdout",
     "output_type": "stream",
     "text": [
      "Result: 15\n"
     ]
    }
   ],
   "source": [
    "#2-uniq_add.py\n",
    "def uniq_add(my_list=[]):\n",
    "    my_list = set(my_list)\n",
    "    sum = 0\n",
    "    for num in my_list:\n",
    "        sum += num\n",
    "    return sum\n",
    "    \n",
    "my_list = [1, 2, 3, 1, 4, 2, 5]\n",
    "result = uniq_add(my_list)\n",
    "print(\"Result: {:d}\".format(result))"
   ]
  },
  {
   "cell_type": "code",
   "execution_count": null,
   "id": "762830fa",
   "metadata": {},
   "outputs": [],
   "source": []
  },
  {
   "cell_type": "code",
   "execution_count": 38,
   "id": "e52e0098",
   "metadata": {},
   "outputs": [
    {
     "name": "stdout",
     "output_type": "stream",
     "text": [
      "['C']\n"
     ]
    }
   ],
   "source": [
    "#3-common_elements.py\n",
    "def common_elements(set_1, set_2):\n",
    "    set_3 = set({})\n",
    "    new_list = list(set_1) + list(set_2)\n",
    "    for i, item in enumerate(new_list):\n",
    "        del new_list[i]\n",
    "        if item in new_list:\n",
    "            set_3.add(item)\n",
    "    return(set_3)\n",
    "    \n",
    "    \n",
    "set_1 = { \"Python\", \"C\", \"Javascript\" }\n",
    "set_2 = { \"Bash\", \"C\", \"Ruby\", \"Perl\" }\n",
    "c_set = common_elements(set_1, set_2)\n",
    "print(sorted(list(c_set)))"
   ]
  },
  {
   "cell_type": "code",
   "execution_count": null,
   "id": "99c2a809",
   "metadata": {},
   "outputs": [],
   "source": []
  },
  {
   "cell_type": "code",
   "execution_count": 50,
   "id": "9d17abe1",
   "metadata": {},
   "outputs": [
    {
     "name": "stdout",
     "output_type": "stream",
     "text": [
      "['Bash', 'Javascript', 'Perl', 'Python', 'Ruby']\n"
     ]
    }
   ],
   "source": [
    "#4-only_diff_elements.py\n",
    "def only_diff_elements(set_1, set_2):\n",
    "    list1 = list(set_1)\n",
    "    list2 = list(set_2)\n",
    "    list3 = list1 + list2\n",
    "    for item in list1:\n",
    "        if item in list2:\n",
    "            list3.remove(item)\n",
    "            list3.remove(item)\n",
    "    return set(list3)\n",
    "\n",
    "\n",
    "set_1 = { \"Python\", \"C\", \"Javascript\" }\n",
    "set_2 = { \"Bash\", \"C\", \"Ruby\", \"Perl\" }\n",
    "od_set = only_diff_elements(set_1, set_2)\n",
    "print(sorted(list(od_set)))"
   ]
  },
  {
   "cell_type": "code",
   "execution_count": null,
   "id": "d9ce2704",
   "metadata": {},
   "outputs": [],
   "source": []
  },
  {
   "cell_type": "code",
   "execution_count": 55,
   "id": "3eab6372",
   "metadata": {},
   "outputs": [
    {
     "name": "stdout",
     "output_type": "stream",
     "text": [
      "Number of keys: 3\n"
     ]
    }
   ],
   "source": [
    "#5-number_keys.py\n",
    "def number_keys(a_dictionary):\n",
    "    length = len(a_dictionary.items())\n",
    "    return length\n",
    "\n",
    "\n",
    "a_dictionary = { 'language': \"C\", 'number': 13, 'track': \"Low level\" }\n",
    "nb_keys = number_keys(a_dictionary)\n",
    "print(\"Number of keys: {:d}\".format(nb_keys))"
   ]
  },
  {
   "cell_type": "code",
   "execution_count": null,
   "id": "06b9c9a8",
   "metadata": {},
   "outputs": [],
   "source": []
  },
  {
   "cell_type": "code",
   "execution_count": 61,
   "id": "7cafd2b0",
   "metadata": {},
   "outputs": [
    {
     "name": "stdout",
     "output_type": "stream",
     "text": [
      "Number: 89\n",
      "ids: [1, 2, 3]\n",
      "language: C\n",
      "track: Low level\n",
      "{'language': 'C', 'Number': 89, 'track': 'Low level', 'ids': [1, 2, 3]}\n"
     ]
    }
   ],
   "source": [
    "#6-print_sorted_dictionary.py\n",
    "def print_sorted_dictionary(a_dictionary):\n",
    "    keys_list = []\n",
    "    new_dict = {}\n",
    "    for key in a_dictionary:\n",
    "        keys_list.append(key)\n",
    "    keys_list.sort()\n",
    "    for item in keys_list:\n",
    "        for key, value in a_dictionary.items():\n",
    "            if item == key:\n",
    "                new_dict[key] = value\n",
    "    for key, value in new_dict.items():\n",
    "        print(f\"{key}: {value}\") \n",
    "    print(a_dictionary)\n",
    "    \n",
    "a_dictionary = { 'language': \"C\", 'Number': 89, 'track': \"Low level\", 'ids': [1, 2, 3] }\n",
    "print_sorted_dictionary(a_dictionary)"
   ]
  },
  {
   "cell_type": "code",
   "execution_count": null,
   "id": "ffb64166",
   "metadata": {},
   "outputs": [],
   "source": []
  },
  {
   "cell_type": "code",
   "execution_count": 63,
   "id": "9b745d10",
   "metadata": {},
   "outputs": [
    {
     "name": "stdout",
     "output_type": "stream",
     "text": [
      "language: Python\n",
      "number: 89\n",
      "track: Low level\n",
      "--\n",
      "language: Python\n",
      "number: 89\n",
      "track: Low level\n",
      "--\n",
      "--\n",
      "city: San Francisco\n",
      "language: Python\n",
      "number: 89\n",
      "track: Low level\n",
      "--\n",
      "city: San Francisco\n",
      "language: Python\n",
      "number: 89\n",
      "track: Low level\n"
     ]
    }
   ],
   "source": [
    "#7-update_dictionary.py\n",
    "print_sorted_dictionary = __import__('6-print_sorted_dictionary').print_sorted_dictionary\n",
    "\n",
    "def update_dictionary(a_dictionary, key, value):\n",
    "        a_dictionary[key] = value\n",
    "        return a_dictionary\n",
    "\n",
    "\n",
    "\n",
    "\n",
    "\n",
    "\n",
    "\n",
    "a_dictionary = { 'language': \"C\", 'number': 89, 'track': \"Low level\" }\n",
    "new_dict = update_dictionary(a_dictionary, 'language', \"Python\")\n",
    "print_sorted_dictionary(new_dict)\n",
    "print(\"--\")\n",
    "print_sorted_dictionary(a_dictionary)\n",
    "\n",
    "print(\"--\")\n",
    "print(\"--\")\n",
    "\n",
    "new_dict = update_dictionary(a_dictionary, 'city', \"San Francisco\")\n",
    "print_sorted_dictionary(new_dict)\n",
    "print(\"--\")\n",
    "print_sorted_dictionary(a_dictionary)"
   ]
  },
  {
   "cell_type": "code",
   "execution_count": 71,
   "id": "a3b6efbb",
   "metadata": {},
   "outputs": [
    {
     "name": "stdout",
     "output_type": "stream",
     "text": [
      "Number: 89\n",
      "ids: [1, 2, 3]\n",
      "language: C\n",
      "--\n",
      "Number: 89\n",
      "ids: [1, 2, 3]\n",
      "language: C\n",
      "--\n",
      "--\n",
      "Number: 89\n",
      "ids: [1, 2, 3]\n",
      "language: C\n",
      "--\n",
      "Number: 89\n",
      "ids: [1, 2, 3]\n",
      "language: C\n"
     ]
    }
   ],
   "source": [
    "#8-simple_delete.py\n",
    "print_sorted_dictionary = __import__('6-print_sorted_dictionary').print_sorted_dictionary\n",
    "\n",
    "def simple_delete(a_dictionary, key=\"\"):\n",
    "    if key not in a_dictionary:\n",
    "        return a_dictionary\n",
    "    del a_dictionary[key]\n",
    "    return a_dictionary\n",
    "    \n",
    "    \n",
    "    \n",
    "    \n",
    "\n",
    "\n",
    "a_dictionary = { 'language': \"C\", 'Number': 89, 'track': \"Low\", 'ids': [1, 2, 3] }\n",
    "new_dict = simple_delete(a_dictionary, 'track')\n",
    "print_sorted_dictionary(a_dictionary)\n",
    "print(\"--\")\n",
    "print_sorted_dictionary(new_dict)\n",
    "\n",
    "print(\"--\")\n",
    "print(\"--\")\n",
    "new_dict = simple_delete(a_dictionary, 'c_is_fun')\n",
    "print_sorted_dictionary(a_dictionary)\n",
    "print(\"--\")\n",
    "print_sorted_dictionary(new_dict)\n"
   ]
  },
  {
   "cell_type": "code",
   "execution_count": null,
   "id": "4f0395b5",
   "metadata": {},
   "outputs": [],
   "source": []
  },
  {
   "cell_type": "code",
   "execution_count": 65,
   "id": "db7117d5",
   "metadata": {},
   "outputs": [
    {
     "name": "stdout",
     "output_type": "stream",
     "text": [
      "Help on class dict in module builtins:\n",
      "\n",
      "class dict(object)\n",
      " |  dict() -> new empty dictionary\n",
      " |  dict(mapping) -> new dictionary initialized from a mapping object's\n",
      " |      (key, value) pairs\n",
      " |  dict(iterable) -> new dictionary initialized as if via:\n",
      " |      d = {}\n",
      " |      for k, v in iterable:\n",
      " |          d[k] = v\n",
      " |  dict(**kwargs) -> new dictionary initialized with the name=value pairs\n",
      " |      in the keyword argument list.  For example:  dict(one=1, two=2)\n",
      " |  \n",
      " |  Built-in subclasses:\n",
      " |      StgDict\n",
      " |  \n",
      " |  Methods defined here:\n",
      " |  \n",
      " |  __contains__(self, key, /)\n",
      " |      True if the dictionary has the specified key, else False.\n",
      " |  \n",
      " |  __delitem__(self, key, /)\n",
      " |      Delete self[key].\n",
      " |  \n",
      " |  __eq__(self, value, /)\n",
      " |      Return self==value.\n",
      " |  \n",
      " |  __ge__(self, value, /)\n",
      " |      Return self>=value.\n",
      " |  \n",
      " |  __getattribute__(self, name, /)\n",
      " |      Return getattr(self, name).\n",
      " |  \n",
      " |  __getitem__(...)\n",
      " |      x.__getitem__(y) <==> x[y]\n",
      " |  \n",
      " |  __gt__(self, value, /)\n",
      " |      Return self>value.\n",
      " |  \n",
      " |  __init__(self, /, *args, **kwargs)\n",
      " |      Initialize self.  See help(type(self)) for accurate signature.\n",
      " |  \n",
      " |  __ior__(self, value, /)\n",
      " |      Return self|=value.\n",
      " |  \n",
      " |  __iter__(self, /)\n",
      " |      Implement iter(self).\n",
      " |  \n",
      " |  __le__(self, value, /)\n",
      " |      Return self<=value.\n",
      " |  \n",
      " |  __len__(self, /)\n",
      " |      Return len(self).\n",
      " |  \n",
      " |  __lt__(self, value, /)\n",
      " |      Return self<value.\n",
      " |  \n",
      " |  __ne__(self, value, /)\n",
      " |      Return self!=value.\n",
      " |  \n",
      " |  __or__(self, value, /)\n",
      " |      Return self|value.\n",
      " |  \n",
      " |  __repr__(self, /)\n",
      " |      Return repr(self).\n",
      " |  \n",
      " |  __reversed__(self, /)\n",
      " |      Return a reverse iterator over the dict keys.\n",
      " |  \n",
      " |  __ror__(self, value, /)\n",
      " |      Return value|self.\n",
      " |  \n",
      " |  __setitem__(self, key, value, /)\n",
      " |      Set self[key] to value.\n",
      " |  \n",
      " |  __sizeof__(...)\n",
      " |      D.__sizeof__() -> size of D in memory, in bytes\n",
      " |  \n",
      " |  clear(...)\n",
      " |      D.clear() -> None.  Remove all items from D.\n",
      " |  \n",
      " |  copy(...)\n",
      " |      D.copy() -> a shallow copy of D\n",
      " |  \n",
      " |  get(self, key, default=None, /)\n",
      " |      Return the value for key if key is in the dictionary, else default.\n",
      " |  \n",
      " |  items(...)\n",
      " |      D.items() -> a set-like object providing a view on D's items\n",
      " |  \n",
      " |  keys(...)\n",
      " |      D.keys() -> a set-like object providing a view on D's keys\n",
      " |  \n",
      " |  pop(...)\n",
      " |      D.pop(k[,d]) -> v, remove specified key and return the corresponding value.\n",
      " |      \n",
      " |      If the key is not found, return the default if given; otherwise,\n",
      " |      raise a KeyError.\n",
      " |  \n",
      " |  popitem(self, /)\n",
      " |      Remove and return a (key, value) pair as a 2-tuple.\n",
      " |      \n",
      " |      Pairs are returned in LIFO (last-in, first-out) order.\n",
      " |      Raises KeyError if the dict is empty.\n",
      " |  \n",
      " |  setdefault(self, key, default=None, /)\n",
      " |      Insert key with a value of default if key is not in the dictionary.\n",
      " |      \n",
      " |      Return the value for key if key is in the dictionary, else default.\n",
      " |  \n",
      " |  update(...)\n",
      " |      D.update([E, ]**F) -> None.  Update D from dict/iterable E and F.\n",
      " |      If E is present and has a .keys() method, then does:  for k in E: D[k] = E[k]\n",
      " |      If E is present and lacks a .keys() method, then does:  for k, v in E: D[k] = v\n",
      " |      In either case, this is followed by: for k in F:  D[k] = F[k]\n",
      " |  \n",
      " |  values(...)\n",
      " |      D.values() -> an object providing a view on D's values\n",
      " |  \n",
      " |  ----------------------------------------------------------------------\n",
      " |  Class methods defined here:\n",
      " |  \n",
      " |  __class_getitem__(...) from builtins.type\n",
      " |      See PEP 585\n",
      " |  \n",
      " |  fromkeys(iterable, value=None, /) from builtins.type\n",
      " |      Create a new dictionary with keys from iterable and values set to value.\n",
      " |  \n",
      " |  ----------------------------------------------------------------------\n",
      " |  Static methods defined here:\n",
      " |  \n",
      " |  __new__(*args, **kwargs) from builtins.type\n",
      " |      Create and return a new object.  See help(type) for accurate signature.\n",
      " |  \n",
      " |  ----------------------------------------------------------------------\n",
      " |  Data and other attributes defined here:\n",
      " |  \n",
      " |  __hash__ = None\n",
      "\n",
      "None\n"
     ]
    }
   ],
   "source": [
    "print(help(dict))"
   ]
  },
  {
   "cell_type": "code",
   "execution_count": null,
   "id": "b0a3714d",
   "metadata": {},
   "outputs": [],
   "source": []
  },
  {
   "cell_type": "code",
   "execution_count": null,
   "id": "7263af2c",
   "metadata": {},
   "outputs": [],
   "source": []
  },
  {
   "cell_type": "code",
   "execution_count": 77,
   "id": "3b069bb2",
   "metadata": {},
   "outputs": [
    {
     "name": "stdout",
     "output_type": "stream",
     "text": [
      "Alex: 8\n",
      "Bob: 14\n",
      "John: 12\n",
      "Mike: 14\n",
      "Molly: 16\n",
      "--\n",
      "Alex: 16\n",
      "Bob: 28\n",
      "John: 24\n",
      "Mike: 28\n",
      "Molly: 32\n"
     ]
    }
   ],
   "source": [
    "#9-multiply_by_2.py\n",
    "print_sorted_dictionary = \\\n",
    "    __import__('6-print_sorted_dictionary').print_sorted_dictionary\n",
    "\n",
    "def multiply_by_2(a_dictionary):\n",
    "    new_dict = {key: value * 2 for key, value in a_dictionary.items()}\n",
    "    return new_dict\n",
    "\n",
    "    \n",
    "    \n",
    "\n",
    "\n",
    "\n",
    "a_dictionary = {'John': 12, 'Alex': 8, 'Bob': 14, 'Mike': 14, 'Molly': 16}\n",
    "new_dict = multiply_by_2(a_dictionary)\n",
    "print_sorted_dictionary(a_dictionary)\n",
    "print(\"--\")\n",
    "print_sorted_dictionary(new_dict)"
   ]
  },
  {
   "cell_type": "code",
   "execution_count": null,
   "id": "6195b65b",
   "metadata": {},
   "outputs": [],
   "source": []
  },
  {
   "cell_type": "code",
   "execution_count": 147,
   "id": "ab820a78",
   "metadata": {},
   "outputs": [
    {
     "name": "stdout",
     "output_type": "stream",
     "text": [
      "Best score: Molly\n",
      "Best score: None\n"
     ]
    }
   ],
   "source": [
    "#10-best_score.py\n",
    "def best_score(a_dictionary):\n",
    "    if a_dictionary is None:\n",
    "        return None\n",
    "    max_value = max(a_dictionary.values())\n",
    "    for key, value in a_dictionary.items():\n",
    "        if max_value == value:\n",
    "            return key\n",
    "    \n",
    "    \n",
    "    \n",
    "    \n",
    "a_dictionary = {'John': 12, 'Bob': 14, 'Mike': 14, 'Molly': 16, 'Adam': 10}\n",
    "best_key = best_score(a_dictionary)\n",
    "print(\"Best score: {}\".format(best_key))\n",
    "\n",
    "best_key = best_score(None)\n",
    "print(\"Best score: {}\".format(best_key))"
   ]
  },
  {
   "cell_type": "code",
   "execution_count": null,
   "id": "b4059b53",
   "metadata": {},
   "outputs": [],
   "source": []
  },
  {
   "cell_type": "code",
   "execution_count": 82,
   "id": "287c970b",
   "metadata": {},
   "outputs": [
    {
     "name": "stdout",
     "output_type": "stream",
     "text": [
      "[4, 8, 12, 16, 24]\n",
      "[1, 2, 3, 4, 6]\n"
     ]
    }
   ],
   "source": [
    "#11-multiply_list_map.py\n",
    "def multiply_list_map(my_list=[], number=0):\n",
    "    return list(map(lambda i: i * number, my_list))\n",
    "    \n",
    "    \n",
    "    \n",
    "my_list = [1, 2, 3, 4, 6]\n",
    "new_list = multiply_list_map(my_list, 4)\n",
    "print(new_list)\n",
    "print(my_list)"
   ]
  },
  {
   "cell_type": "code",
   "execution_count": null,
   "id": "a4b1f000",
   "metadata": {},
   "outputs": [],
   "source": []
  },
  {
   "cell_type": "code",
   "execution_count": null,
   "id": "639cda34",
   "metadata": {},
   "outputs": [],
   "source": []
  },
  {
   "cell_type": "code",
   "execution_count": null,
   "id": "e7b67762",
   "metadata": {},
   "outputs": [],
   "source": [
    "#12-roman_to_int.py\n",
    "def roman_to_int(roman_string):\n",
    "    roman_dict = {'I' : 1, 'V': 5, 'X' : 10, 'L': 50, 'C': 100, 'D': 500, 'M': 1000 }\n",
    "    \n",
    "    \n",
    "    "
   ]
  },
  {
   "cell_type": "code",
   "execution_count": null,
   "id": "8f6c0a2f",
   "metadata": {},
   "outputs": [],
   "source": []
  },
  {
   "cell_type": "code",
   "execution_count": 110,
   "id": "9fca19a1",
   "metadata": {},
   "outputs": [
    {
     "name": "stdout",
     "output_type": "stream",
     "text": [
      "Average: 0.00\n"
     ]
    }
   ],
   "source": [
    "#100-weight_average.py\n",
    "def weight_average(my_list=[]):\n",
    "    sum_num = 0\n",
    "    weights = []\n",
    "    if not my_list:\n",
    "        return 0\n",
    "    for tuples in my_list:\n",
    "        for i, j in [tuples]:\n",
    "            weights.append(j)\n",
    "            mul = i * j\n",
    "        sum_num += mul\n",
    "    weight_average = sum_num / sum(weights)\n",
    "    return weight_average\n",
    "    \n",
    "\n",
    "\n",
    "my_list = [(1, 2), (2, 1), (3, 10), (4, 2)]\n",
    "# = ((1 * 2) + (2 * 1) + (3 * 10) + (4 * 2)) / (2 + 1 + 10 + 2)\n",
    "result = weight_average()\n",
    "print(\"Average: {:0.2f}\".format(result))"
   ]
  },
  {
   "cell_type": "code",
   "execution_count": 98,
   "id": "b2a7e736",
   "metadata": {},
   "outputs": [
    {
     "name": "stdout",
     "output_type": "stream",
     "text": [
      "3 5\n"
     ]
    }
   ],
   "source": [
    "num = (3, 5)\n",
    "for i, j in [num]:\n",
    "    print(i, j)"
   ]
  },
  {
   "cell_type": "code",
   "execution_count": null,
   "id": "cb90b9be",
   "metadata": {},
   "outputs": [],
   "source": []
  },
  {
   "cell_type": "code",
   "execution_count": null,
   "id": "01ba6b91",
   "metadata": {},
   "outputs": [],
   "source": []
  },
  {
   "cell_type": "code",
   "execution_count": 117,
   "id": "d271fc91",
   "metadata": {},
   "outputs": [
    {
     "name": "stdout",
     "output_type": "stream",
     "text": [
      "[[1, 4, 9], [16, 25, 36], [49, 64, 81]]\n",
      "[[1, 2, 3], [4, 5, 6], [7, 8, 9]]\n"
     ]
    }
   ],
   "source": [
    "#101-square_matrix_map.py\n",
    "def square_matrix_map(matrix=[]):\n",
    "     return list(map(lambda row: list(map(lambda i: i ** 2, row)), matrix))\n",
    "#return list(map(lambda i: i * number, my_list))  \n",
    "    \n",
    "    \n",
    "    \n",
    "matrix = [\n",
    "    [1, 2, 3],\n",
    "    [4, 5, 6],\n",
    "    [7, 8, 9]\n",
    "]\n",
    "\n",
    "new_matrix = square_matrix_map(matrix)\n",
    "print(new_matrix)\n",
    "print(matrix)\n"
   ]
  },
  {
   "cell_type": "code",
   "execution_count": null,
   "id": "ded9e92b",
   "metadata": {},
   "outputs": [],
   "source": []
  },
  {
   "cell_type": "code",
   "execution_count": null,
   "id": "8dfa8389",
   "metadata": {},
   "outputs": [],
   "source": []
  },
  {
   "cell_type": "code",
   "execution_count": 146,
   "id": "fb14ff62",
   "metadata": {},
   "outputs": [
    {
     "name": "stdout",
     "output_type": "stream",
     "text": [
      "ids: [1, 2, 3]\n",
      "track: Low\n",
      "--\n",
      "ids: [1, 2, 3]\n",
      "track: Low\n",
      "--\n",
      "--\n",
      "ids: [1, 2, 3]\n",
      "track: Low\n",
      "--\n",
      "ids: [1, 2, 3]\n",
      "track: Low\n"
     ]
    }
   ],
   "source": [
    "#102-complex_delete.py\n",
    "print_sorted_dictionary =  __import__('6-print_sorted_dictionary').print_sorted_dictionary\n",
    "\n",
    "def complex_delete(a_dictionary, value):\n",
    "    key_list = []\n",
    "    if value not in a_dictionary.values():\n",
    "        return a_dictionary\n",
    "    for key, item in a_dictionary.items():\n",
    "        if item == value:\n",
    "            key_list.append(key)\n",
    "    for element in key_list:\n",
    "        del a_dictionary[element]\n",
    "    return(a_dictionary)\n",
    "    \n",
    "    \n",
    "    \n",
    "#     max_value = max(a_dictionary.values())\n",
    "#     for key, value in a_dictionary.items():\n",
    "#         if max_value == value:\n",
    "#             return key    \n",
    "\n",
    "\n",
    "a_dictionary = {'lang': \"C\", 'track': \"Low\", 'pref': \"C\", 'ids': [1, 2, 3]}\n",
    "new_dict = complex_delete(a_dictionary, 'C')\n",
    "print_sorted_dictionary(a_dictionary)\n",
    "print(\"--\")\n",
    "print_sorted_dictionary(new_dict)\n",
    "\n",
    "print(\"--\")\n",
    "print(\"--\")\n",
    "new_dict = complex_delete(a_dictionary, 'c_is_fun')\n",
    "print_sorted_dictionary(a_dictionary)\n",
    "print(\"--\")\n",
    "print_sorted_dictionary(new_dict)"
   ]
  },
  {
   "cell_type": "code",
   "execution_count": 137,
   "id": "88b237fc",
   "metadata": {},
   "outputs": [
    {
     "name": "stdout",
     "output_type": "stream",
     "text": [
      "Miriam Dami\n"
     ]
    }
   ],
   "source": [
    "name = (\"Miriam\", \"Dami\")\n",
    "for m, d in [name]:\n",
    "    print(m, d)"
   ]
  },
  {
   "cell_type": "code",
   "execution_count": null,
   "id": "b44139fc",
   "metadata": {},
   "outputs": [],
   "source": []
  },
  {
   "cell_type": "code",
   "execution_count": null,
   "id": "b4b7076f",
   "metadata": {},
   "outputs": [],
   "source": []
  },
  {
   "cell_type": "code",
   "execution_count": null,
   "id": "fa58dba7",
   "metadata": {},
   "outputs": [],
   "source": []
  },
  {
   "cell_type": "code",
   "execution_count": null,
   "id": "dc769a92",
   "metadata": {},
   "outputs": [],
   "source": []
  },
  {
   "cell_type": "code",
   "execution_count": null,
   "id": "0e600066",
   "metadata": {},
   "outputs": [],
   "source": []
  },
  {
   "cell_type": "code",
   "execution_count": null,
   "id": "b763e53a",
   "metadata": {},
   "outputs": [],
   "source": []
  },
  {
   "cell_type": "code",
   "execution_count": null,
   "id": "1fbd604b",
   "metadata": {},
   "outputs": [],
   "source": []
  },
  {
   "cell_type": "code",
   "execution_count": null,
   "id": "46ef06ce",
   "metadata": {},
   "outputs": [],
   "source": []
  },
  {
   "cell_type": "code",
   "execution_count": null,
   "id": "50fe2fa7",
   "metadata": {},
   "outputs": [],
   "source": []
  },
  {
   "cell_type": "code",
   "execution_count": null,
   "id": "0b1a7ace",
   "metadata": {},
   "outputs": [],
   "source": []
  },
  {
   "cell_type": "code",
   "execution_count": null,
   "id": "ff54b1de",
   "metadata": {},
   "outputs": [],
   "source": []
  },
  {
   "cell_type": "code",
   "execution_count": null,
   "id": "b8e28abb",
   "metadata": {},
   "outputs": [],
   "source": []
  },
  {
   "cell_type": "code",
   "execution_count": null,
   "id": "8f40bd2b",
   "metadata": {},
   "outputs": [],
   "source": []
  },
  {
   "cell_type": "code",
   "execution_count": null,
   "id": "84b99f54",
   "metadata": {},
   "outputs": [],
   "source": []
  },
  {
   "cell_type": "code",
   "execution_count": null,
   "id": "e0c258e9",
   "metadata": {},
   "outputs": [],
   "source": []
  },
  {
   "cell_type": "code",
   "execution_count": null,
   "id": "afb3d721",
   "metadata": {},
   "outputs": [],
   "source": []
  },
  {
   "cell_type": "code",
   "execution_count": null,
   "id": "6e21e092",
   "metadata": {},
   "outputs": [],
   "source": []
  },
  {
   "cell_type": "code",
   "execution_count": null,
   "id": "094b8b79",
   "metadata": {},
   "outputs": [],
   "source": []
  },
  {
   "cell_type": "code",
   "execution_count": null,
   "id": "f7c66d36",
   "metadata": {},
   "outputs": [],
   "source": []
  }
 ],
 "metadata": {
  "kernelspec": {
   "display_name": "Python 3 (ipykernel)",
   "language": "python",
   "name": "python3"
  },
  "language_info": {
   "codemirror_mode": {
    "name": "ipython",
    "version": 3
   },
   "file_extension": ".py",
   "mimetype": "text/x-python",
   "name": "python",
   "nbconvert_exporter": "python",
   "pygments_lexer": "ipython3",
   "version": "3.11.5"
  }
 },
 "nbformat": 4,
 "nbformat_minor": 5
}

{
 "cells": [
  {
   "cell_type": "code",
   "execution_count": 8,
   "id": "11b71858",
   "metadata": {},
   "outputs": [
    {
     "name": "stdout",
     "output_type": "stream",
     "text": [
      "Element at index 5 is None\n"
     ]
    }
   ],
   "source": [
    "#1-element_at.py\n",
    "\n",
    "def element_at(my_list, idx):\n",
    "    if idx < 0 or  idx > (len(my_list) - 1):\n",
    "        return None\n",
    "    return my_list[idx]\n",
    "\n",
    "my_list = [1, 2, 3, 4, 5]\n",
    "idx = 5\n",
    "print(\"Element at index {:d} is {}\".format(idx, element_at(my_list, idx)))\n"
   ]
  },
  {
   "cell_type": "code",
   "execution_count": null,
   "id": "8b665a37",
   "metadata": {},
   "outputs": [],
   "source": []
  },
  {
   "cell_type": "code",
   "execution_count": 19,
   "id": "d55332fe",
   "metadata": {},
   "outputs": [
    {
     "name": "stdout",
     "output_type": "stream",
     "text": [
      "[1, 2, 3, 4, 5]\n",
      "[1, 2, 3, 4, 5]\n"
     ]
    }
   ],
   "source": [
    "#2-replace_in_list.py\n",
    "\n",
    "def replace_in_list(my_list, idx, element):\n",
    "    if idx < 0 or  idx > (len(my_list) - 1):\n",
    "        return my_list\n",
    "    my_list[idx] = element\n",
    "    return my_list\n",
    "\n",
    "my_list = [1, 2, 3, 4, 5]\n",
    "idx = -1\n",
    "new_element = 9\n",
    "new_list = replace_in_list(my_list, idx, new_element)\n",
    "\n",
    "print(new_list)\n",
    "print(my_list)"
   ]
  },
  {
   "cell_type": "code",
   "execution_count": null,
   "id": "343aeee9",
   "metadata": {},
   "outputs": [],
   "source": []
  },
  {
   "cell_type": "code",
   "execution_count": 8,
   "id": "f7c67e73",
   "metadata": {},
   "outputs": [
    {
     "name": "stdout",
     "output_type": "stream",
     "text": [
      "5\n",
      "4\n",
      "3\n",
      "2\n",
      "1\n"
     ]
    }
   ],
   "source": [
    "#3-print_reversed_list_integer.py\n",
    "def print_reversed_list_integer(my_list=[]):\n",
    "    for i in range(1, len(my_list) + 1):\n",
    "        print(\"{}\".format(my_list[-i]))\n",
    "    \n",
    "my_list = [1, 2, 3, 4, 5]\n",
    "print_reversed_list_integer(my_list)\n",
    "\n"
   ]
  },
  {
   "cell_type": "code",
   "execution_count": null,
   "id": "1e91dc6b",
   "metadata": {},
   "outputs": [],
   "source": []
  },
  {
   "cell_type": "code",
   "execution_count": 10,
   "id": "2fb4cc27",
   "metadata": {},
   "outputs": [
    {
     "name": "stdout",
     "output_type": "stream",
     "text": [
      "[1, 2, 3, 9, 5]\n",
      "[1, 2, 3, 4, 5]\n"
     ]
    }
   ],
   "source": [
    "#4-new_in_list.py\n",
    "def new_in_list(my_list, idx, element):\n",
    "    my_list = tuple(my_list)\n",
    "    copy_list = list(my_list)\n",
    "    if idx < 0 or  idx > (len(my_list) - 1):\n",
    "        return my_list\n",
    "    copy_list[idx] = element\n",
    "    return copy_list\n",
    "    \n",
    "my_list = [1, 2, 3, 4, 5]\n",
    "idx = 3\n",
    "new_element = 9\n",
    "new_list = new_in_list(my_list, idx, new_element)\n",
    "\n",
    "print(new_list)\n",
    "print(my_list)"
   ]
  },
  {
   "cell_type": "code",
   "execution_count": null,
   "id": "7e9c22f5",
   "metadata": {},
   "outputs": [],
   "source": []
  },
  {
   "cell_type": "code",
   "execution_count": 13,
   "id": "b1c05d94",
   "metadata": {},
   "outputs": [
    {
     "name": "stdout",
     "output_type": "stream",
     "text": [
      "Best Shool\n",
      "hiago\n",
      " is fun!\n"
     ]
    }
   ],
   "source": [
    "#5-no_c.py\n",
    "def no_c(my_string):\n",
    "    str_list = list(my_string)\n",
    "    if 'c' in my_string:\n",
    "        index = my_string.find('c')\n",
    "        str_list[index] = ''\n",
    "    if 'C' in my_string:\n",
    "        index = my_string.find('C')\n",
    "        str_list[index] = ''\n",
    "    return ''.join(str_list)\n",
    "    \n",
    "    \n",
    "print(no_c(\"Best School\"))\n",
    "print(no_c(\"Chicago\"))\n",
    "print(no_c(\"C is fun!\"))\n"
   ]
  },
  {
   "cell_type": "code",
   "execution_count": 15,
   "id": "5eb2b7a5",
   "metadata": {},
   "outputs": [
    {
     "name": "stdout",
     "output_type": "stream",
     "text": [
      "Best Shool\n",
      "hiago\n",
      " is fun!\n"
     ]
    }
   ],
   "source": [
    "def no_c(my_string):\n",
    "    str_list = list(my_string)\n",
    "    if 'c' in str_list or 'C' in str_list:\n",
    "        for i in range(len(str_list)):\n",
    "            if str_list[i] == 'c':\n",
    "                str_list[i] = ''\n",
    "            if str_list[i] == 'C':\n",
    "                str_list[i] = ''\n",
    "    my_string1 = ''.join(str_list)\n",
    "    return my_string1\n",
    "\n",
    "print(no_c(\"Best School\"))\n",
    "print(no_c(\"Chicago\"))\n",
    "print(no_c(\"C is fun!\"))\n",
    "\n",
    "            "
   ]
  },
  {
   "cell_type": "code",
   "execution_count": null,
   "id": "83422ba9",
   "metadata": {},
   "outputs": [],
   "source": []
  },
  {
   "cell_type": "code",
   "execution_count": 3,
   "id": "f5b99518",
   "metadata": {},
   "outputs": [
    {
     "name": "stdout",
     "output_type": "stream",
     "text": [
      "Best Shool\n",
      "hiago\n",
      " is fun!\n"
     ]
    }
   ],
   "source": [
    "def no_c(my_string):\n",
    "    str_list = list(my_string)\n",
    "    for char in str_list:\n",
    "        if char in \"cC\":\n",
    "            index = my_string.find(char)\n",
    "            str_list[index] = ''\n",
    "    return ''.join(str_list)\n",
    "\n",
    "print(no_c(\"Best School\"))\n",
    "print(no_c(\"Chicago\"))\n",
    "print(no_c(\"C is fun!\"))\n"
   ]
  },
  {
   "cell_type": "code",
   "execution_count": null,
   "id": "d1055f22",
   "metadata": {},
   "outputs": [],
   "source": []
  },
  {
   "cell_type": "code",
   "execution_count": 10,
   "id": "baaa9172",
   "metadata": {},
   "outputs": [
    {
     "name": "stdout",
     "output_type": "stream",
     "text": [
      "Best Shool\n",
      "hiago\n",
      " is fun!\n"
     ]
    }
   ],
   "source": [
    "def no_c(my_string):\n",
    "    str_list = list(my_string)\n",
    "    for i, char in enumerate(str_list):\n",
    "        if char in 'cC':\n",
    "            str_list[i] = ''\n",
    "    my_string1 = ''.join(str_list)\n",
    "    return my_string1\n",
    "\n",
    "print(no_c(\"Best School\"))\n",
    "print(no_c(\"Chicago\"))\n",
    "print(no_c(\"C is fun!\"))"
   ]
  },
  {
   "cell_type": "code",
   "execution_count": null,
   "id": "313eccfb",
   "metadata": {},
   "outputs": [],
   "source": []
  },
  {
   "cell_type": "code",
   "execution_count": 38,
   "id": "44ada222",
   "metadata": {},
   "outputs": [
    {
     "name": "stdout",
     "output_type": "stream",
     "text": [
      "1 2 3\n",
      "4 5 6\n",
      "7 8 9\n",
      "--\n"
     ]
    }
   ],
   "source": [
    "#6-print_matrix_integer.py\n",
    "def print_matrix_integer(matrix=[[]]):\n",
    "    for nums in matrix:\n",
    "        for i, num in enumerate(nums):\n",
    "            if i == 2:\n",
    "                print(\"{:d}\".format(num))\n",
    "            else:\n",
    "                print(\"{:d}\".format(num), end = ' ')\n",
    "\n",
    "                \n",
    "matrix = [\n",
    "    [1, 2, 3],\n",
    "    [4, 5, 6],\n",
    "    [7, 8, 9]\n",
    "]\n",
    "\n",
    "print_matrix_integer(matrix)\n",
    "print(\"--\")\n",
    "print_matrix_integer()\n"
   ]
  },
  {
   "cell_type": "code",
   "execution_count": null,
   "id": "7235388a",
   "metadata": {},
   "outputs": [],
   "source": []
  },
  {
   "cell_type": "code",
   "execution_count": 51,
   "id": "fd898e15",
   "metadata": {},
   "outputs": [
    {
     "name": "stdout",
     "output_type": "stream",
     "text": [
      "(89, 100)\n",
      "(2, 89)\n",
      "(1, 89)\n"
     ]
    }
   ],
   "source": [
    "#7-add_tuple.py\n",
    "def add_tuple(tuple_a=(), tuple_b=()):\n",
    "    for i in range(2):\n",
    "        if len(tuple_a) < 2:\n",
    "            tuple_a = tuple_a + (0, )\n",
    "        if len(tuple_b) < 2:\n",
    "            tuple_b = tuple_b + (0, )\n",
    "    new_tuple = (tuple_a[0], ) + (tuple_a[1], ) + tuple_b\n",
    "    sum1 = new_tuple[0] + new_tuple[2]\n",
    "    sum2 = new_tuple[1] + new_tuple[3]\n",
    "    return (sum1, sum2)\n",
    "\n",
    "    \n",
    "tuple_a = (1, 89, 90)\n",
    "tuple_b = (88, 11, 45)\n",
    "new_tuple = add_tuple(tuple_a, tuple_b)\n",
    "print(new_tuple)\n",
    "\n",
    "print(add_tuple(tuple_a, (1, )))\n",
    "print(add_tuple(tuple_a, ()))"
   ]
  },
  {
   "cell_type": "code",
   "execution_count": 53,
   "id": "3ee999c8",
   "metadata": {},
   "outputs": [
    {
     "name": "stdout",
     "output_type": "stream",
     "text": [
      "(89, 100)\n",
      "(2, 89)\n",
      "(1, 89)\n"
     ]
    }
   ],
   "source": [
    "def add_tuple(tuple_a=(), tuple_b=()):\n",
    "    t1 = tuple_a + (0, 0)\n",
    "    t2 = tuple_b + (0, 0)\n",
    "    new_tuple = (t1[0] + t2[0], t1[1] + t2[1])\n",
    "    return new_tuple\n",
    "    \n",
    "tuple_a = (1, 89, 90)\n",
    "tuple_b = (88, 11, 45)\n",
    "new_tuple = add_tuple(tuple_a, tuple_b)\n",
    "print(new_tuple)\n",
    "\n",
    "print(add_tuple(tuple_a, (1, )))\n",
    "print(add_tuple(tuple_a, ()))"
   ]
  },
  {
   "cell_type": "code",
   "execution_count": null,
   "id": "8da8f272",
   "metadata": {},
   "outputs": [],
   "source": []
  },
  {
   "cell_type": "code",
   "execution_count": 22,
   "id": "22c8da20",
   "metadata": {},
   "outputs": [
    {
     "name": "stdout",
     "output_type": "stream",
     "text": [
      "Length: 22 - First character: A\n"
     ]
    }
   ],
   "source": [
    "#8-multiple_returns.py\n",
    "def multiple_returns(sentence):\n",
    "    if sentence == \"\":\n",
    "        sentence = tuple(sentence) + (None, )\n",
    "    char1 = sentence[0]\n",
    "    return (len(sentence), char1)\n",
    "   \n",
    "    \n",
    "sentence = \"At school, I learnt C!\"\n",
    "length, first = multiple_returns(sentence)\n",
    "print(\"Length: {:d} - First character: {}\".format(length, first))\n"
   ]
  },
  {
   "cell_type": "code",
   "execution_count": 17,
   "id": "5a331b2a",
   "metadata": {},
   "outputs": [
    {
     "name": "stdout",
     "output_type": "stream",
     "text": [
      "(None,)\n"
     ]
    }
   ],
   "source": [
    "name = tuple(\"\") + (None,)\n",
    "print(name)"
   ]
  },
  {
   "cell_type": "code",
   "execution_count": null,
   "id": "5809eb33",
   "metadata": {},
   "outputs": [],
   "source": []
  },
  {
   "cell_type": "code",
   "execution_count": 26,
   "id": "06b91d1d",
   "metadata": {},
   "outputs": [
    {
     "name": "stdout",
     "output_type": "stream",
     "text": [
      "Max: 90\n"
     ]
    }
   ],
   "source": [
    "#9-max_integer.py\n",
    "def max_integer(my_list=[]):\n",
    "    max_value = my_list[0]\n",
    "    if my_list != []:\n",
    "        for num in my_list:\n",
    "            if num > max_value:\n",
    "                max_value = num\n",
    "        return max_value\n",
    "    return None\n",
    "    \n",
    "        \n",
    "    \n",
    "    \n",
    "my_list = [1, 90, 2, 13, 34, 5, -13, 3]\n",
    "max_value = max_integer(my_list)\n",
    "print(\"Max: {}\".format(max_value))"
   ]
  },
  {
   "cell_type": "code",
   "execution_count": null,
   "id": "30f8af9a",
   "metadata": {},
   "outputs": [],
   "source": []
  },
  {
   "cell_type": "code",
   "execution_count": 29,
   "id": "3dde4695",
   "metadata": {},
   "outputs": [
    {
     "name": "stdout",
     "output_type": "stream",
     "text": [
      "0 is divisible by 2\n",
      "1 is not divisible by 2\n",
      "2 is divisible by 2\n",
      "3 is not divisible by 2\n",
      "4 is divisible by 2\n",
      "5 is not divisible by 2\n",
      "6 is divisible by 2\n"
     ]
    }
   ],
   "source": [
    "#10-divisible_by_2.py\n",
    "def divisible_by_2(my_list=[]):\n",
    "    new_list = []\n",
    "    for num in my_list:\n",
    "        if num % 2 == 0:\n",
    "            new_list.append(True)\n",
    "        else:\n",
    "            new_list.append(False)\n",
    "    return new_list\n",
    "\n",
    "\n",
    "my_list = [0, 1, 2, 3, 4, 5, 6]\n",
    "list_result = divisible_by_2(my_list)\n",
    "\n",
    "i = 0\n",
    "while i < len(list_result):\n",
    "    print(\"{:d} {:s} divisible by 2\".format(my_list[i], \"is\" if list_result[i] else \"is not\"))\n",
    "    i += 1"
   ]
  },
  {
   "cell_type": "code",
   "execution_count": null,
   "id": "e051c525",
   "metadata": {},
   "outputs": [],
   "source": []
  },
  {
   "cell_type": "code",
   "execution_count": 54,
   "id": "b21fb7f9",
   "metadata": {},
   "outputs": [
    {
     "name": "stdout",
     "output_type": "stream",
     "text": [
      "[1, 2, 3, 5]\n",
      "[1, 2, 3, 5]\n"
     ]
    }
   ],
   "source": [
    "#11-delete_at.py\n",
    "def delete_at(my_list=[], idx=0):\n",
    "    if idx < 0 or  idx > (len(my_list) - 1):\n",
    "        return my_list\n",
    "    del my_list[idx]\n",
    "    return my_list\n",
    "#    my_list = [num for num in my_list if num != my_list[idx]]\n",
    "#    return my_list\n",
    "\n",
    "    \n",
    "my_list = [1, 2, 3, 4, 5]\n",
    "idx = 3\n",
    "new_list = delete_at(my_list, idx)\n",
    "print(new_list)\n",
    "print(my_list)"
   ]
  },
  {
   "cell_type": "code",
   "execution_count": null,
   "id": "75c67953",
   "metadata": {},
   "outputs": [],
   "source": []
  },
  {
   "cell_type": "code",
   "execution_count": 55,
   "id": "e52e0c64",
   "metadata": {},
   "outputs": [
    {
     "name": "stdout",
     "output_type": "stream",
     "text": [
      "a=10 - b=89\n"
     ]
    }
   ],
   "source": [
    "#12-switch.py\n",
    "a = 89\n",
    "b = 10\n",
    "a, b = (b, a)\n",
    "print(\"a={:d} - b={:d}\".format(a, b))"
   ]
  },
  {
   "cell_type": "code",
   "execution_count": null,
   "id": "3fc8d781",
   "metadata": {},
   "outputs": [],
   "source": []
  },
  {
   "cell_type": "code",
   "execution_count": null,
   "id": "7f23cadc",
   "metadata": {},
   "outputs": [],
   "source": []
  }
 ],
 "metadata": {
  "kernelspec": {
   "display_name": "Python 3 (ipykernel)",
   "language": "python",
   "name": "python3"
  },
  "language_info": {
   "codemirror_mode": {
    "name": "ipython",
    "version": 3
   },
   "file_extension": ".py",
   "mimetype": "text/x-python",
   "name": "python",
   "nbconvert_exporter": "python",
   "pygments_lexer": "ipython3",
   "version": "3.11.5"
  }
 },
 "nbformat": 4,
 "nbformat_minor": 5
}

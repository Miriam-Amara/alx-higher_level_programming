{
 "cells": [
  {
   "cell_type": "code",
   "execution_count": 8,
   "id": "11b71858",
   "metadata": {},
   "outputs": [
    {
     "name": "stdout",
     "output_type": "stream",
     "text": [
      "Element at index 5 is None\n"
     ]
    }
   ],
   "source": [
    "#1-element_at.py\n",
    "\n",
    "def element_at(my_list, idx):\n",
    "    if idx < 0 or  idx > (len(my_list) - 1):\n",
    "        return None\n",
    "    return my_list[idx]\n",
    "\n",
    "my_list = [1, 2, 3, 4, 5]\n",
    "idx = 5\n",
    "print(\"Element at index {:d} is {}\".format(idx, element_at(my_list, idx)))\n"
   ]
  },
  {
   "cell_type": "code",
   "execution_count": null,
   "id": "8b665a37",
   "metadata": {},
   "outputs": [],
   "source": []
  },
  {
   "cell_type": "code",
   "execution_count": 19,
   "id": "d55332fe",
   "metadata": {},
   "outputs": [
    {
     "name": "stdout",
     "output_type": "stream",
     "text": [
      "[1, 2, 3, 4, 5]\n",
      "[1, 2, 3, 4, 5]\n"
     ]
    }
   ],
   "source": [
    "#2-replace_in_list.py\n",
    "\n",
    "def replace_in_list(my_list, idx, element):\n",
    "    if idx < 0 or  idx > (len(my_list) - 1):\n",
    "        return my_list\n",
    "    my_list[idx] = element\n",
    "    return my_list\n",
    "\n",
    "my_list = [1, 2, 3, 4, 5]\n",
    "idx = -1\n",
    "new_element = 9\n",
    "new_list = replace_in_list(my_list, idx, new_element)\n",
    "\n",
    "print(new_list)\n",
    "print(my_list)"
   ]
  },
  {
   "cell_type": "code",
   "execution_count": null,
   "id": "343aeee9",
   "metadata": {},
   "outputs": [],
   "source": []
  },
  {
   "cell_type": "code",
   "execution_count": null,
   "id": "f7c67e73",
   "metadata": {},
   "outputs": [],
   "source": [
    "#3-print_reversed_list_integer.py\n",
    "\n"
   ]
  },
  {
   "cell_type": "code",
   "execution_count": null,
   "id": "1e91dc6b",
   "metadata": {},
   "outputs": [],
   "source": []
  },
  {
   "cell_type": "code",
   "execution_count": null,
   "id": "2fb4cc27",
   "metadata": {},
   "outputs": [],
   "source": []
  },
  {
   "cell_type": "code",
   "execution_count": null,
   "id": "7e9c22f5",
   "metadata": {},
   "outputs": [],
   "source": []
  }
 ],
 "metadata": {
  "kernelspec": {
   "display_name": "Python 3 (ipykernel)",
   "language": "python",
   "name": "python3"
  },
  "language_info": {
   "codemirror_mode": {
    "name": "ipython",
    "version": 3
   },
   "file_extension": ".py",
   "mimetype": "text/x-python",
   "name": "python",
   "nbconvert_exporter": "python",
   "pygments_lexer": "ipython3",
   "version": "3.11.5"
  }
 },
 "nbformat": 4,
 "nbformat_minor": 5
}

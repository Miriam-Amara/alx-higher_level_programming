{
 "cells": [
  {
   "cell_type": "code",
   "execution_count": 8,
   "id": "11b71858",
   "metadata": {},
   "outputs": [
    {
     "name": "stdout",
     "output_type": "stream",
     "text": [
      "Element at index 5 is None\n"
     ]
    }
   ],
   "source": [
    "#1-element_at.py\n",
    "\n",
    "def element_at(my_list, idx):\n",
    "    if idx < 0 or  idx > (len(my_list) - 1):\n",
    "        return None\n",
    "    return my_list[idx]\n",
    "\n",
    "my_list = [1, 2, 3, 4, 5]\n",
    "idx = 5\n",
    "print(\"Element at index {:d} is {}\".format(idx, element_at(my_list, idx)))\n"
   ]
  },
  {
   "cell_type": "code",
   "execution_count": null,
   "id": "8b665a37",
   "metadata": {},
   "outputs": [],
   "source": []
  },
  {
   "cell_type": "code",
   "execution_count": 19,
   "id": "d55332fe",
   "metadata": {},
   "outputs": [
    {
     "name": "stdout",
     "output_type": "stream",
     "text": [
      "[1, 2, 3, 4, 5]\n",
      "[1, 2, 3, 4, 5]\n"
     ]
    }
   ],
   "source": [
    "#2-replace_in_list.py\n",
    "\n",
    "def replace_in_list(my_list, idx, element):\n",
    "    if idx < 0 or  idx > (len(my_list) - 1):\n",
    "        return my_list\n",
    "    my_list[idx] = element\n",
    "    return my_list\n",
    "\n",
    "my_list = [1, 2, 3, 4, 5]\n",
    "idx = -1\n",
    "new_element = 9\n",
    "new_list = replace_in_list(my_list, idx, new_element)\n",
    "\n",
    "print(new_list)\n",
    "print(my_list)"
   ]
  },
  {
   "cell_type": "code",
   "execution_count": null,
   "id": "343aeee9",
   "metadata": {},
   "outputs": [],
   "source": []
  },
  {
   "cell_type": "code",
   "execution_count": 8,
   "id": "f7c67e73",
   "metadata": {},
   "outputs": [
    {
     "name": "stdout",
     "output_type": "stream",
     "text": [
      "5\n",
      "4\n",
      "3\n",
      "2\n",
      "1\n"
     ]
    }
   ],
   "source": [
    "#3-print_reversed_list_integer.py\n",
    "def print_reversed_list_integer(my_list=[]):\n",
    "    for i in range(1, len(my_list) + 1):\n",
    "        print(\"{}\".format(my_list[-i]))\n",
    "    \n",
    "my_list = [1, 2, 3, 4, 5]\n",
    "print_reversed_list_integer(my_list)\n",
    "\n"
   ]
  },
  {
   "cell_type": "code",
   "execution_count": null,
   "id": "1e91dc6b",
   "metadata": {},
   "outputs": [],
   "source": []
  },
  {
   "cell_type": "code",
   "execution_count": 10,
   "id": "2fb4cc27",
   "metadata": {},
   "outputs": [
    {
     "name": "stdout",
     "output_type": "stream",
     "text": [
      "[1, 2, 3, 9, 5]\n",
      "[1, 2, 3, 4, 5]\n"
     ]
    }
   ],
   "source": [
    "#4-new_in_list.py\n",
    "def new_in_list(my_list, idx, element):\n",
    "    my_list = tuple(my_list)\n",
    "    copy_list = list(my_list)\n",
    "    if idx < 0 or  idx > (len(my_list) - 1):\n",
    "        return my_list\n",
    "    copy_list[idx] = element\n",
    "    return copy_list\n",
    "    \n",
    "my_list = [1, 2, 3, 4, 5]\n",
    "idx = 3\n",
    "new_element = 9\n",
    "new_list = new_in_list(my_list, idx, new_element)\n",
    "\n",
    "print(new_list)\n",
    "print(my_list)"
   ]
  },
  {
   "cell_type": "code",
   "execution_count": null,
   "id": "7e9c22f5",
   "metadata": {},
   "outputs": [],
   "source": []
  },
  {
   "cell_type": "code",
   "execution_count": 13,
   "id": "b1c05d94",
   "metadata": {},
   "outputs": [
    {
     "name": "stdout",
     "output_type": "stream",
     "text": [
      "Best Shool\n",
      "hiago\n",
      " is fun!\n"
     ]
    }
   ],
   "source": [
    "#5-no_c.py\n",
    "def no_c(my_string):\n",
    "    str_list = list(my_string)\n",
    "    if 'c' in my_string:\n",
    "        index = my_string.find('c')\n",
    "        str_list[index] = ''\n",
    "    if 'C' in my_string:\n",
    "        index = my_string.find('C')\n",
    "        str_list[index] = ''\n",
    "    return ''.join(str_list)\n",
    "    \n",
    "    \n",
    "print(no_c(\"Best School\"))\n",
    "print(no_c(\"Chicago\"))\n",
    "print(no_c(\"C is fun!\"))\n"
   ]
  },
  {
   "cell_type": "code",
   "execution_count": 15,
   "id": "5eb2b7a5",
   "metadata": {},
   "outputs": [
    {
     "name": "stdout",
     "output_type": "stream",
     "text": [
      "Best Shool\n",
      "hiago\n",
      " is fun!\n"
     ]
    }
   ],
   "source": [
    "def no_c(my_string):\n",
    "    str_list = list(my_string)\n",
    "    if 'c' in str_list or 'C' in str_list:\n",
    "        for i in range(len(str_list)):\n",
    "            if str_list[i] == 'c':\n",
    "                str_list[i] = ''\n",
    "            if str_list[i] == 'C':\n",
    "                str_list[i] = ''\n",
    "    my_string1 = ''.join(str_list)\n",
    "    return my_string1\n",
    "\n",
    "print(no_c(\"Best School\"))\n",
    "print(no_c(\"Chicago\"))\n",
    "print(no_c(\"C is fun!\"))\n",
    "\n",
    "            "
   ]
  },
  {
   "cell_type": "code",
   "execution_count": null,
   "id": "83422ba9",
   "metadata": {},
   "outputs": [],
   "source": []
  },
  {
   "cell_type": "code",
   "execution_count": 3,
   "id": "f5b99518",
   "metadata": {},
   "outputs": [
    {
     "name": "stdout",
     "output_type": "stream",
     "text": [
      "Best Shool\n",
      "hiago\n",
      " is fun!\n"
     ]
    }
   ],
   "source": [
    "def no_c(my_string):\n",
    "    str_list = list(my_string)\n",
    "    for char in str_list:\n",
    "        if char in \"cC\":\n",
    "            index = my_string.find(char)\n",
    "            str_list[index] = ''\n",
    "    return ''.join(str_list)\n",
    "\n",
    "print(no_c(\"Best School\"))\n",
    "print(no_c(\"Chicago\"))\n",
    "print(no_c(\"C is fun!\"))\n"
   ]
  },
  {
   "cell_type": "code",
   "execution_count": null,
   "id": "d1055f22",
   "metadata": {},
   "outputs": [],
   "source": []
  },
  {
   "cell_type": "code",
   "execution_count": 10,
   "id": "baaa9172",
   "metadata": {},
   "outputs": [
    {
     "name": "stdout",
     "output_type": "stream",
     "text": [
      "Best Shool\n",
      "hiago\n",
      " is fun!\n"
     ]
    }
   ],
   "source": [
    "def no_c(my_string):\n",
    "    str_list = list(my_string)\n",
    "    for i, char in enumerate(str_list):\n",
    "        if char in 'cC':\n",
    "            str_list[i] = ''\n",
    "    my_string1 = ''.join(str_list)\n",
    "    return my_string1\n",
    "\n",
    "print(no_c(\"Best School\"))\n",
    "print(no_c(\"Chicago\"))\n",
    "print(no_c(\"C is fun!\"))"
   ]
  },
  {
   "cell_type": "code",
   "execution_count": null,
   "id": "313eccfb",
   "metadata": {},
   "outputs": [],
   "source": []
  },
  {
   "cell_type": "code",
   "execution_count": 38,
   "id": "44ada222",
   "metadata": {},
   "outputs": [
    {
     "name": "stdout",
     "output_type": "stream",
     "text": [
      "1 2 3\n",
      "4 5 6\n",
      "7 8 9\n",
      "--\n"
     ]
    }
   ],
   "source": [
    "#6-print_matrix_integer.py\n",
    "def print_matrix_integer(matrix=[[]]):\n",
    "    for nums in matrix:\n",
    "        for i, num in enumerate(nums):\n",
    "            if i == 2:\n",
    "                print(\"{:d}\".format(num))\n",
    "            else:\n",
    "                print(\"{:d}\".format(num), end = ' ')\n",
    "\n",
    "                \n",
    "matrix = [\n",
    "    [1, 2, 3],\n",
    "    [4, 5, 6],\n",
    "    [7, 8, 9]\n",
    "]\n",
    "\n",
    "print_matrix_integer(matrix)\n",
    "print(\"--\")\n",
    "print_matrix_integer()\n"
   ]
  },
  {
   "cell_type": "code",
   "execution_count": null,
   "id": "7235388a",
   "metadata": {},
   "outputs": [],
   "source": []
  },
  {
   "cell_type": "code",
   "execution_count": 16,
   "id": "fd898e15",
   "metadata": {},
   "outputs": [
    {
     "name": "stdout",
     "output_type": "stream",
     "text": [
      "0\n",
      "1\n",
      "2\n",
      "3\n",
      "[1, 89, 88, 11]\n",
      "0\n",
      "1\n",
      "2\n",
      "3\n",
      "[1, 89, 1]\n",
      "0\n",
      "1\n",
      "2\n",
      "3\n",
      "[1, 89]\n"
     ]
    }
   ],
   "source": [
    "#7-add_tuple.py\n",
    "def add_tuple(tuple_a=(), tuple_b=()):\n",
    "    tuple_c = (tuple_a, tuple_b)\n",
    "    for i in range(4):\n",
    "        print(i)\n",
    "    list_nums = list(tuple_a) + list(tuple_b)\n",
    "    return(list_nums)\n",
    "  \n",
    "\n",
    "\n",
    "    \n",
    "tuple_a = (1, 89)\n",
    "tuple_b = (88, 11)\n",
    "new_tuple = add_tuple(tuple_a, tuple_b)\n",
    "print(new_tuple)\n",
    "\n",
    "print(add_tuple(tuple_a, (1, )))\n",
    "print(add_tuple(tuple_a, ()))"
   ]
  },
  {
   "cell_type": "code",
   "execution_count": 4,
   "id": "3ee999c8",
   "metadata": {},
   "outputs": [
    {
     "name": "stdout",
     "output_type": "stream",
     "text": [
      "1 2 3 4\n"
     ]
    }
   ],
   "source": [
    "num1 = (1, 2)\n",
    "num2 = (3, 4)\n",
    "(a, b), (c, d) = (num1, num2)\n",
    "print(a, b, c, d)"
   ]
  },
  {
   "cell_type": "code",
   "execution_count": null,
   "id": "8da8f272",
   "metadata": {},
   "outputs": [],
   "source": []
  },
  {
   "cell_type": "code",
   "execution_count": null,
   "id": "22c8da20",
   "metadata": {},
   "outputs": [],
   "source": []
  },
  {
   "cell_type": "code",
   "execution_count": null,
   "id": "5a331b2a",
   "metadata": {},
   "outputs": [],
   "source": []
  },
  {
   "cell_type": "code",
   "execution_count": null,
   "id": "5809eb33",
   "metadata": {},
   "outputs": [],
   "source": []
  }
 ],
 "metadata": {
  "kernelspec": {
   "display_name": "Python 3 (ipykernel)",
   "language": "python",
   "name": "python3"
  },
  "language_info": {
   "codemirror_mode": {
    "name": "ipython",
    "version": 3
   },
   "file_extension": ".py",
   "mimetype": "text/x-python",
   "name": "python",
   "nbconvert_exporter": "python",
   "pygments_lexer": "ipython3",
   "version": "3.11.5"
  }
 },
 "nbformat": 4,
 "nbformat_minor": 5
}
